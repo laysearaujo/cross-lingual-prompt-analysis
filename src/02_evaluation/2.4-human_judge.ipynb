{
 "cells": [
  {
   "cell_type": "code",
   "execution_count": 1,
   "id": "7371763b",
   "metadata": {},
   "outputs": [
    {
     "name": "stdout",
     "output_type": "stream",
     "text": [
      "Requirement already satisfied: statsmodels in /Users/laysearaujo/miniforge3/envs/ia-py10/lib/python3.10/site-packages (0.14.4)\n",
      "Requirement already satisfied: numpy<3,>=1.22.3 in /Users/laysearaujo/miniforge3/envs/ia-py10/lib/python3.10/site-packages (from statsmodels) (2.2.6)\n",
      "Requirement already satisfied: scipy!=1.9.2,>=1.8 in /Users/laysearaujo/miniforge3/envs/ia-py10/lib/python3.10/site-packages (from statsmodels) (1.15.3)\n",
      "Requirement already satisfied: pandas!=2.1.0,>=1.4 in /Users/laysearaujo/miniforge3/envs/ia-py10/lib/python3.10/site-packages (from statsmodels) (2.3.0)\n",
      "Requirement already satisfied: patsy>=0.5.6 in /Users/laysearaujo/miniforge3/envs/ia-py10/lib/python3.10/site-packages (from statsmodels) (1.0.1)\n",
      "Requirement already satisfied: packaging>=21.3 in /Users/laysearaujo/miniforge3/envs/ia-py10/lib/python3.10/site-packages (from statsmodels) (25.0)\n",
      "Requirement already satisfied: python-dateutil>=2.8.2 in /Users/laysearaujo/miniforge3/envs/ia-py10/lib/python3.10/site-packages (from pandas!=2.1.0,>=1.4->statsmodels) (2.9.0.post0)\n",
      "Requirement already satisfied: pytz>=2020.1 in /Users/laysearaujo/miniforge3/envs/ia-py10/lib/python3.10/site-packages (from pandas!=2.1.0,>=1.4->statsmodels) (2025.2)\n",
      "Requirement already satisfied: tzdata>=2022.7 in /Users/laysearaujo/miniforge3/envs/ia-py10/lib/python3.10/site-packages (from pandas!=2.1.0,>=1.4->statsmodels) (2025.2)\n",
      "Requirement already satisfied: six>=1.5 in /Users/laysearaujo/miniforge3/envs/ia-py10/lib/python3.10/site-packages (from python-dateutil>=2.8.2->pandas!=2.1.0,>=1.4->statsmodels) (1.17.0)\n"
     ]
    }
   ],
   "source": [
    "!pip install statsmodels"
   ]
  },
  {
   "cell_type": "code",
   "execution_count": 2,
   "id": "b266c762",
   "metadata": {},
   "outputs": [],
   "source": [
    "import pandas as pd\n",
    "from collections import Counter\n",
    "from statsmodels.stats.inter_rater import fleiss_kappa"
   ]
  },
  {
   "cell_type": "code",
   "execution_count": 3,
   "id": "8b4b8f69",
   "metadata": {},
   "outputs": [],
   "source": [
    "df = pd.read_csv('../../data/judged/LLM-annotation-results-human_choice.csv')"
   ]
  },
  {
   "cell_type": "code",
   "execution_count": 4,
   "id": "eb2f4fb1",
   "metadata": {},
   "outputs": [
    {
     "data": {
      "text/plain": [
       "(568, 4)"
      ]
     },
     "execution_count": 4,
     "metadata": {},
     "output_type": "execute_result"
    }
   ],
   "source": [
    "df.shape"
   ]
  },
  {
   "cell_type": "code",
   "execution_count": 5,
   "id": "0c9db3e3",
   "metadata": {},
   "outputs": [
    {
     "data": {
      "text/html": [
       "<div>\n",
       "<style scoped>\n",
       "    .dataframe tbody tr th:only-of-type {\n",
       "        vertical-align: middle;\n",
       "    }\n",
       "\n",
       "    .dataframe tbody tr th {\n",
       "        vertical-align: top;\n",
       "    }\n",
       "\n",
       "    .dataframe thead th {\n",
       "        text-align: right;\n",
       "    }\n",
       "</style>\n",
       "<table border=\"1\" class=\"dataframe\">\n",
       "  <thead>\n",
       "    <tr style=\"text-align: right;\">\n",
       "      <th></th>\n",
       "      <th>timestamp</th>\n",
       "      <th>evaluation_id</th>\n",
       "      <th>human_choice</th>\n",
       "      <th>human_id</th>\n",
       "    </tr>\n",
       "  </thead>\n",
       "  <tbody>\n",
       "    <tr>\n",
       "      <th>0</th>\n",
       "      <td>30/09/2025 06:59:16</td>\n",
       "      <td>CG019_3_General Knowledge_minimum_gemini-1.5-p...</td>\n",
       "      <td>B</td>\n",
       "      <td>user-1759226290086-spowi1b0l</td>\n",
       "    </tr>\n",
       "    <tr>\n",
       "      <th>1</th>\n",
       "      <td>30/09/2025 06:59:31</td>\n",
       "      <td>CG006_4_General Knowledge_contextual_gemini-1....</td>\n",
       "      <td>A</td>\n",
       "      <td>user-1759226290086-spowi1b0l</td>\n",
       "    </tr>\n",
       "  </tbody>\n",
       "</table>\n",
       "</div>"
      ],
      "text/plain": [
       "             timestamp                                      evaluation_id  \\\n",
       "0  30/09/2025 06:59:16  CG019_3_General Knowledge_minimum_gemini-1.5-p...   \n",
       "1  30/09/2025 06:59:31  CG006_4_General Knowledge_contextual_gemini-1....   \n",
       "\n",
       "  human_choice                      human_id  \n",
       "0            B  user-1759226290086-spowi1b0l  \n",
       "1            A  user-1759226290086-spowi1b0l  "
      ]
     },
     "execution_count": 5,
     "metadata": {},
     "output_type": "execute_result"
    }
   ],
   "source": [
    "df.head(2)"
   ]
  },
  {
   "cell_type": "code",
   "execution_count": 6,
   "id": "a7e66567",
   "metadata": {},
   "outputs": [
    {
     "name": "stdout",
     "output_type": "stream",
     "text": [
      "Total de Anotações\n"
     ]
    },
    {
     "data": {
      "text/plain": [
       "568"
      ]
     },
     "execution_count": 6,
     "metadata": {},
     "output_type": "execute_result"
    }
   ],
   "source": [
    "print('Total de Anotações')\n",
    "len(df)"
   ]
  },
  {
   "cell_type": "code",
   "execution_count": 7,
   "id": "0409229e",
   "metadata": {},
   "outputs": [
    {
     "name": "stdout",
     "output_type": "stream",
     "text": [
      "human_id\n",
      "user-1759172933100-gj9oyyc0l    93\n",
      "user-1759257213865-94o4sjndz    66\n",
      "user-1759166974830-mu6fsc7yf    46\n",
      "user-1759256521302-5inns438p    18\n",
      "user-1759273239005-wsyiev3t2    16\n",
      "Name: count, dtype: int64\n",
      "\n",
      "Número de anotadores únicos: 68\n",
      "Número de pares únicos avaliados: 150\n",
      "Média de anotações por pessoa: 8.35\n"
     ]
    }
   ],
   "source": [
    "num_anotadores = df['human_id'].nunique()\n",
    "num_pares_avaliados = df['evaluation_id'].nunique()\n",
    "print(df['human_id'].value_counts().head())\n",
    "print(f\"\\nNúmero de anotadores únicos: {num_anotadores}\")\n",
    "print(f\"Número de pares únicos avaliados: {num_pares_avaliados}\")\n",
    "print(f\"Média de anotações por pessoa: {df['human_id'].value_counts().mean():.2f}\")"
   ]
  },
  {
   "cell_type": "code",
   "execution_count": 7,
   "id": "a573c6a6",
   "metadata": {},
   "outputs": [
    {
     "name": "stdout",
     "output_type": "stream",
     "text": [
      "evaluation_id\n",
      "CR019_4_Creative_gpt-4o_contextual_vs_structured_pt                   10\n",
      "CR020_4_Creative_detailed_gemini-1.5-pro-latest_vs_gpt-4o_pt           9\n",
      "CR005_3_Creative_gpt-4o_minimum_vs_structured_pt                       9\n",
      "CR015_3_Creative_gemini-1.5-pro-latest_contextual_vs_structured_pt     8\n",
      "CR015_1_Creative_contextual_gpt-4o_vs_llama-3.3-70b-versatile_pt       8\n",
      "Name: count, dtype: int64\n",
      "\n",
      "Estatísticas da contagem por par:\n",
      "Média de anotações: 3.79\n",
      "Mínimo de anotações: 2\n",
      "Máximo de anotações: 10\n"
     ]
    }
   ],
   "source": [
    "contagem_por_par = df['evaluation_id'].value_counts()\n",
    "print(contagem_por_par.head())\n",
    "print(\"\\nEstatísticas da contagem por par:\")\n",
    "print(f\"Média de anotações: {contagem_por_par.mean():.2f}\")\n",
    "print(f\"Mínimo de anotações: {contagem_por_par.min()}\")\n",
    "print(f\"Máximo de anotações: {contagem_por_par.max()}\")"
   ]
  },
  {
   "cell_type": "code",
   "execution_count": 8,
   "id": "1dbb2d21",
   "metadata": {},
   "outputs": [
    {
     "name": "stdout",
     "output_type": "stream",
     "text": [
      "Distribuição das Escolhas Humanas (A, B, Empate)\n",
      "human_choice\n",
      "B         45.60%\n",
      "A         38.73%\n",
      "Empate    15.67%\n",
      "Name: proportion, dtype: object\n"
     ]
    }
   ],
   "source": [
    "print(\"Distribuição das Escolhas Humanas (A, B, Empate)\")\n",
    "print(df['human_choice'].value_counts(normalize=True).apply('{:.2%}'.format))"
   ]
  },
  {
   "cell_type": "markdown",
   "id": "9d70ce12",
   "metadata": {},
   "source": [
    "## Geração do Ground Truth"
   ]
  },
  {
   "cell_type": "code",
   "execution_count": 9,
   "id": "cc07fa50",
   "metadata": {},
   "outputs": [],
   "source": [
    "def calcular_vencedor_maioria(votos):\n",
    "    \"\"\"\n",
    "    Calcula o voto da maioria para uma série de votos.\n",
    "    - Se houver um vencedor claro por maioria ('A' ou 'B'), retorna esse vencedor.\n",
    "    - Em todos os outros casos (empate entre A e B, ou votos espalhados), retorna 'Tie'.\n",
    "    \"\"\"\n",
    "    contagem = Counter(votos)\n",
    "    votos_para_a = contagem.get('A', 0)\n",
    "    votos_para_b = contagem.get('B', 0)\n",
    "    \n",
    "    if votos_para_a > votos_para_b:\n",
    "        return 'A'\n",
    "    elif votos_para_b > votos_para_a:\n",
    "        return 'B'\n",
    "    else:\n",
    "        return 'Tie'"
   ]
  },
  {
   "cell_type": "code",
   "execution_count": 10,
   "id": "f95a52c5",
   "metadata": {},
   "outputs": [],
   "source": [
    "# Agrupar por 'evaluation_id' e a calcular o vencedor por maioria\n",
    "\n",
    "# Agrupa por evaluation_id e aplica a função de voto de maioria\n",
    "ground_truth = df.groupby('evaluation_id')['human_choice'].apply(calcular_vencedor_maioria).reset_index()\n",
    "ground_truth.rename(columns={'human_choice': 'human_winner'}, inplace=True)"
   ]
  },
  {
   "cell_type": "code",
   "execution_count": 11,
   "id": "444967fc",
   "metadata": {},
   "outputs": [
    {
     "data": {
      "text/html": [
       "<div>\n",
       "<style scoped>\n",
       "    .dataframe tbody tr th:only-of-type {\n",
       "        vertical-align: middle;\n",
       "    }\n",
       "\n",
       "    .dataframe tbody tr th {\n",
       "        vertical-align: top;\n",
       "    }\n",
       "\n",
       "    .dataframe thead th {\n",
       "        text-align: right;\n",
       "    }\n",
       "</style>\n",
       "<table border=\"1\" class=\"dataframe\">\n",
       "  <thead>\n",
       "    <tr style=\"text-align: right;\">\n",
       "      <th></th>\n",
       "      <th>evaluation_id</th>\n",
       "      <th>human_winner</th>\n",
       "    </tr>\n",
       "  </thead>\n",
       "  <tbody>\n",
       "    <tr>\n",
       "      <th>0</th>\n",
       "      <td>CG001_sabia-3.1_2_General Knowledge_detailed_e...</td>\n",
       "      <td>Tie</td>\n",
       "    </tr>\n",
       "    <tr>\n",
       "      <th>1</th>\n",
       "      <td>CG002_1_General Knowledge_minimum_gemini-1.5-p...</td>\n",
       "      <td>B</td>\n",
       "    </tr>\n",
       "    <tr>\n",
       "      <th>2</th>\n",
       "      <td>CG002_2_General Knowledge_sabia-3.1_contextual...</td>\n",
       "      <td>B</td>\n",
       "    </tr>\n",
       "    <tr>\n",
       "      <th>3</th>\n",
       "      <td>CG002_3_General Knowledge_sabia-3.1_detailed_v...</td>\n",
       "      <td>A</td>\n",
       "    </tr>\n",
       "    <tr>\n",
       "      <th>4</th>\n",
       "      <td>CG002_5_General Knowledge_minimum_gemini-1.5-p...</td>\n",
       "      <td>Tie</td>\n",
       "    </tr>\n",
       "  </tbody>\n",
       "</table>\n",
       "</div>"
      ],
      "text/plain": [
       "                                       evaluation_id human_winner\n",
       "0  CG001_sabia-3.1_2_General Knowledge_detailed_e...          Tie\n",
       "1  CG002_1_General Knowledge_minimum_gemini-1.5-p...            B\n",
       "2  CG002_2_General Knowledge_sabia-3.1_contextual...            B\n",
       "3  CG002_3_General Knowledge_sabia-3.1_detailed_v...            A\n",
       "4  CG002_5_General Knowledge_minimum_gemini-1.5-p...          Tie"
      ]
     },
     "execution_count": 11,
     "metadata": {},
     "output_type": "execute_result"
    }
   ],
   "source": [
    "ground_truth.head()"
   ]
  },
  {
   "cell_type": "code",
   "execution_count": 12,
   "id": "8bbb8f53",
   "metadata": {},
   "outputs": [
    {
     "name": "stdout",
     "output_type": "stream",
     "text": [
      "Distribuição das Escolhas Humanas (A, B, Empate) no ground_truth\n",
      "human_winner\n",
      "B      46.00%\n",
      "A      38.00%\n",
      "Tie    16.00%\n",
      "Name: proportion, dtype: object\n"
     ]
    }
   ],
   "source": [
    "print(\"Distribuição das Escolhas Humanas (A, B, Empate) no ground_truth\")\n",
    "print(ground_truth['human_winner'].value_counts(normalize=True).apply('{:.2%}'.format))"
   ]
  },
  {
   "cell_type": "code",
   "execution_count": 13,
   "id": "3426632f",
   "metadata": {},
   "outputs": [],
   "source": [
    "ground_truth.to_csv('../../data/judged/human_ground_truth.csv', index=False, encoding='utf-8-sig')"
   ]
  },
  {
   "cell_type": "code",
   "execution_count": 14,
   "id": "dbae7b5f",
   "metadata": {},
   "outputs": [
    {
     "data": {
      "text/plain": [
       "150"
      ]
     },
     "execution_count": 14,
     "metadata": {},
     "output_type": "execute_result"
    }
   ],
   "source": [
    "len(ground_truth)"
   ]
  },
  {
   "cell_type": "markdown",
   "id": "59c0425e",
   "metadata": {},
   "source": [
    "## A calcular a concordância entre os avaliadores (Fleiss' Kappa)"
   ]
  },
  {
   "cell_type": "code",
   "execution_count": 15,
   "id": "40162b34",
   "metadata": {},
   "outputs": [
    {
     "name": "stdout",
     "output_type": "stream",
     "text": [
      "O número mínimo de votos por par é 2. Vamos usar este valor para a amostragem.\n"
     ]
    }
   ],
   "source": [
    "contagem_por_par = df['evaluation_id'].value_counts()\n",
    "min_votos = contagem_por_par.min()\n",
    "print(f\"O número mínimo de votos por par é {min_votos}. Vamos usar este valor para a amostragem.\")"
   ]
  },
  {
   "cell_type": "code",
   "execution_count": 16,
   "id": "a6b62955",
   "metadata": {},
   "outputs": [],
   "source": [
    "# Agrupa por 'evaluation_id' e pega numa amostra aleatória de 'min_votos' de cada grupo.\n",
    "df_amostra_kappa = df.groupby('evaluation_id').sample(n=min_votos, random_state=42)"
   ]
  },
  {
   "cell_type": "code",
   "execution_count": 17,
   "id": "4802d1c3",
   "metadata": {},
   "outputs": [
    {
     "data": {
      "text/html": [
       "<div>\n",
       "<style scoped>\n",
       "    .dataframe tbody tr th:only-of-type {\n",
       "        vertical-align: middle;\n",
       "    }\n",
       "\n",
       "    .dataframe tbody tr th {\n",
       "        vertical-align: top;\n",
       "    }\n",
       "\n",
       "    .dataframe thead th {\n",
       "        text-align: right;\n",
       "    }\n",
       "</style>\n",
       "<table border=\"1\" class=\"dataframe\">\n",
       "  <thead>\n",
       "    <tr style=\"text-align: right;\">\n",
       "      <th>human_choice</th>\n",
       "      <th>A</th>\n",
       "      <th>B</th>\n",
       "      <th>Empate</th>\n",
       "    </tr>\n",
       "    <tr>\n",
       "      <th>evaluation_id</th>\n",
       "      <th></th>\n",
       "      <th></th>\n",
       "      <th></th>\n",
       "    </tr>\n",
       "  </thead>\n",
       "  <tbody>\n",
       "    <tr>\n",
       "      <th>CG001_sabia-3.1_2_General Knowledge_detailed_en_vs_pt</th>\n",
       "      <td>0</td>\n",
       "      <td>1</td>\n",
       "      <td>1</td>\n",
       "    </tr>\n",
       "    <tr>\n",
       "      <th>CG002_1_General Knowledge_minimum_gemini-1.5-pro-latest_vs_llama-3.3-70b-versatile_pt</th>\n",
       "      <td>0</td>\n",
       "      <td>0</td>\n",
       "      <td>2</td>\n",
       "    </tr>\n",
       "  </tbody>\n",
       "</table>\n",
       "</div>"
      ],
      "text/plain": [
       "human_choice                                        A  B  Empate\n",
       "evaluation_id                                                   \n",
       "CG001_sabia-3.1_2_General Knowledge_detailed_en...  0  1       1\n",
       "CG002_1_General Knowledge_minimum_gemini-1.5-pr...  0  0       2"
      ]
     },
     "execution_count": 17,
     "metadata": {},
     "output_type": "execute_result"
    }
   ],
   "source": [
    "# preparar os dados da amostra para o formato que o Fleiss' Kappa espera\n",
    "# ele precisa de uma tabela onde as linhas são os pares (subjects)\n",
    "# e as colunas são as categorias de escolha (A, B, Empate).\n",
    "counts = df_amostra_kappa.groupby(['evaluation_id', 'human_choice']).size().unstack(fill_value=0)\n",
    "counts = counts[['A', 'B', 'Empate']]\n",
    "counts.head(2)"
   ]
  },
  {
   "cell_type": "code",
   "execution_count": 18,
   "id": "a65979bd",
   "metadata": {},
   "outputs": [
    {
     "name": "stdout",
     "output_type": "stream",
     "text": [
      "\n",
      "O valor do Fleiss' Kappa é: 0.1780\n"
     ]
    }
   ],
   "source": [
    "kappa_value = fleiss_kappa(counts.values)\n",
    "print(f\"\\nO valor do Fleiss' Kappa é: {kappa_value:.4f}\")"
   ]
  },
  {
   "cell_type": "code",
   "execution_count": 19,
   "id": "a855ed2a",
   "metadata": {},
   "outputs": [
    {
     "name": "stdout",
     "output_type": "stream",
     "text": [
      "Interpretação: Concordância fraca. A fiabilidade dos dados é baixa.\n"
     ]
    }
   ],
   "source": [
    "if kappa_value > 0.8:\n",
    "    print(\"Interpretação: Concordância quase perfeita. Os seus dados são muito fiáveis!\")\n",
    "elif kappa_value > 0.6:\n",
    "    print(\"Interpretação: Concordância substancial. Pode usar os dados com confiança.\")\n",
    "elif kappa_value > 0.4:\n",
    "    print(\"Interpretação: Concordância moderada. Os dados são utilizáveis.\")\n",
    "else:\n",
    "    print(\"Interpretação: Concordância fraca. A fiabilidade dos dados é baixa.\")"
   ]
  }
 ],
 "metadata": {
  "kernelspec": {
   "display_name": "ia-py10",
   "language": "python",
   "name": "python3"
  },
  "language_info": {
   "codemirror_mode": {
    "name": "ipython",
    "version": 3
   },
   "file_extension": ".py",
   "mimetype": "text/x-python",
   "name": "python",
   "nbconvert_exporter": "python",
   "pygments_lexer": "ipython3",
   "version": "3.10.18"
  }
 },
 "nbformat": 4,
 "nbformat_minor": 5
}
