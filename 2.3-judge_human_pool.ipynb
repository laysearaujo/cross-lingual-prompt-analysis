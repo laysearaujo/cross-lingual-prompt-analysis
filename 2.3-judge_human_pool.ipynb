{
 "cells": [
  {
   "cell_type": "code",
   "execution_count": 1,
   "id": "86174767",
   "metadata": {},
   "outputs": [],
   "source": [
    "import pandas as pd"
   ]
  },
  {
   "cell_type": "code",
   "execution_count": 2,
   "id": "18853a2d",
   "metadata": {},
   "outputs": [],
   "source": [
    "input_filename = 'sample_master.csv'\n",
    "output_filename = 'sample_master_annotator_pool.csv'\n",
    "sampling_fraction = 0.1  # 10%"
   ]
  },
  {
   "cell_type": "code",
   "execution_count": 3,
   "id": "2db1a8fc",
   "metadata": {},
   "outputs": [
    {
     "name": "stdout",
     "output_type": "stream",
     "text": [
      "Arquivo de entrada: sample_master.csv\n",
      "Arquivo de saída: sample_master_annotator_pool.csv\n",
      "Porcentagem da amostra: 10.0%\n"
     ]
    }
   ],
   "source": [
    "print(f\"Arquivo de entrada: {input_filename}\")\n",
    "print(f\"Arquivo de saída: {output_filename}\")\n",
    "print(f\"Porcentagem da amostra: {sampling_fraction*100}%\")"
   ]
  },
  {
   "cell_type": "code",
   "execution_count": 4,
   "id": "dfb71c40",
   "metadata": {},
   "outputs": [
    {
     "name": "stdout",
     "output_type": "stream",
     "text": [
      "\n",
      "Arquivo original lido com sucesso. Contém 1500 linhas.\n"
     ]
    }
   ],
   "source": [
    "df = pd.read_csv(input_filename)\n",
    "original_row_count = len(df)\n",
    "print(f\"\\nArquivo original lido com sucesso. Contém {original_row_count} linhas.\")"
   ]
  },
  {
   "cell_type": "code",
   "execution_count": 5,
   "id": "2d88b457",
   "metadata": {},
   "outputs": [],
   "source": [
    "sampled_df = df.sample(frac=sampling_fraction, random_state=42)\n",
    "sampled_row_count = len(sampled_df)\n"
   ]
  },
  {
   "cell_type": "code",
   "execution_count": 6,
   "id": "76dbf130",
   "metadata": {},
   "outputs": [],
   "source": [
    "sampled_df.to_csv(output_filename, index=False)"
   ]
  },
  {
   "cell_type": "code",
   "execution_count": 10,
   "id": "df676502",
   "metadata": {},
   "outputs": [
    {
     "data": {
      "text/plain": [
       "(150, 17)"
      ]
     },
     "execution_count": 10,
     "metadata": {},
     "output_type": "execute_result"
    }
   ],
   "source": [
    "sampled_df.shape"
   ]
  },
  {
   "cell_type": "code",
   "execution_count": 11,
   "id": "e067620f",
   "metadata": {},
   "outputs": [
    {
     "data": {
      "text/html": [
       "<div>\n",
       "<style scoped>\n",
       "    .dataframe tbody tr th:only-of-type {\n",
       "        vertical-align: middle;\n",
       "    }\n",
       "\n",
       "    .dataframe tbody tr th {\n",
       "        vertical-align: top;\n",
       "    }\n",
       "\n",
       "    .dataframe thead th {\n",
       "        text-align: right;\n",
       "    }\n",
       "</style>\n",
       "<table border=\"1\" class=\"dataframe\">\n",
       "  <thead>\n",
       "    <tr style=\"text-align: right;\">\n",
       "      <th></th>\n",
       "      <th>evaluation_id</th>\n",
       "      <th>question_id</th>\n",
       "      <th>sample_n</th>\n",
       "      <th>domain</th>\n",
       "      <th>language</th>\n",
       "      <th>model</th>\n",
       "      <th>comparison</th>\n",
       "      <th>response_A</th>\n",
       "      <th>prompt_level_of_A</th>\n",
       "      <th>response_B</th>\n",
       "      <th>prompt_level_of_B</th>\n",
       "      <th>prompt_level</th>\n",
       "      <th>model_of_A</th>\n",
       "      <th>model_of_B</th>\n",
       "      <th>source_of_A</th>\n",
       "      <th>source_of_B</th>\n",
       "      <th>original_pt_response</th>\n",
       "    </tr>\n",
       "  </thead>\n",
       "  <tbody>\n",
       "    <tr>\n",
       "      <th>1116</th>\n",
       "      <td>TC014_gemini-1.5-pro-latest_1_Technical_contex...</td>\n",
       "      <td>TC014</td>\n",
       "      <td>1</td>\n",
       "      <td>Technical</td>\n",
       "      <td>NaN</td>\n",
       "      <td>gemini-1.5-pro-latest</td>\n",
       "      <td>NaN</td>\n",
       "      <td>The primary use of a NumPy array is to efficie...</td>\n",
       "      <td>NaN</td>\n",
       "      <td>Numple matrices are the central data structure...</td>\n",
       "      <td>NaN</td>\n",
       "      <td>contextual</td>\n",
       "      <td>NaN</td>\n",
       "      <td>NaN</td>\n",
       "      <td>english_original</td>\n",
       "      <td>portuguese_pivoted</td>\n",
       "      <td>As matrizes NumPy são a estrutura de dados cen...</td>\n",
       "    </tr>\n",
       "    <tr>\n",
       "      <th>1368</th>\n",
       "      <td>CG004_gemini-1.5-pro-latest_4_General Knowledg...</td>\n",
       "      <td>CG004</td>\n",
       "      <td>4</td>\n",
       "      <td>General Knowledge</td>\n",
       "      <td>NaN</td>\n",
       "      <td>gemini-1.5-pro-latest</td>\n",
       "      <td>NaN</td>\n",
       "      <td>The Proclamation of the Republic in Brazil on ...</td>\n",
       "      <td>NaN</td>\n",
       "      <td>The proclamation of the Republic in Brazil, on...</td>\n",
       "      <td>NaN</td>\n",
       "      <td>minimum</td>\n",
       "      <td>NaN</td>\n",
       "      <td>NaN</td>\n",
       "      <td>english_original</td>\n",
       "      <td>portuguese_pivoted</td>\n",
       "      <td>A Proclamação da República no Brasil, em 15 de...</td>\n",
       "    </tr>\n",
       "    <tr>\n",
       "      <th>422</th>\n",
       "      <td>CG004_3_General Knowledge_gemini-1.5-pro-lates...</td>\n",
       "      <td>CG004</td>\n",
       "      <td>3</td>\n",
       "      <td>General Knowledge</td>\n",
       "      <td>en</td>\n",
       "      <td>gemini-1.5-pro-latest</td>\n",
       "      <td>contextual_vs_structured</td>\n",
       "      <td>The Proclamation of the Republic in Brazil in ...</td>\n",
       "      <td>structured</td>\n",
       "      <td>The Proclamation of the Republic in Brazil on ...</td>\n",
       "      <td>contextual</td>\n",
       "      <td>NaN</td>\n",
       "      <td>NaN</td>\n",
       "      <td>NaN</td>\n",
       "      <td>NaN</td>\n",
       "      <td>NaN</td>\n",
       "      <td>NaN</td>\n",
       "    </tr>\n",
       "    <tr>\n",
       "      <th>413</th>\n",
       "      <td>CG002_3_General Knowledge_sabia-3.1_detailed_v...</td>\n",
       "      <td>CG002</td>\n",
       "      <td>3</td>\n",
       "      <td>General Knowledge</td>\n",
       "      <td>en</td>\n",
       "      <td>sabia-3.1</td>\n",
       "      <td>detailed_vs_structured</td>\n",
       "      <td>The fall of the Berlin Wall on November 9, 19...</td>\n",
       "      <td>detailed</td>\n",
       "      <td>The fall of the Berlin Wall in 1989 is signif...</td>\n",
       "      <td>structured</td>\n",
       "      <td>NaN</td>\n",
       "      <td>NaN</td>\n",
       "      <td>NaN</td>\n",
       "      <td>NaN</td>\n",
       "      <td>NaN</td>\n",
       "      <td>NaN</td>\n",
       "    </tr>\n",
       "    <tr>\n",
       "      <th>451</th>\n",
       "      <td>CR005_4_Creative_gpt-4o_detailed_vs_structured_en</td>\n",
       "      <td>CR005</td>\n",
       "      <td>4</td>\n",
       "      <td>Creative</td>\n",
       "      <td>en</td>\n",
       "      <td>gpt-4o</td>\n",
       "      <td>detailed_vs_structured</td>\n",
       "      <td>In the quiet corners of the city, there stood ...</td>\n",
       "      <td>structured</td>\n",
       "      <td>Title: \"The Library of Lost Memories\"\\n\\n**Con...</td>\n",
       "      <td>detailed</td>\n",
       "      <td>NaN</td>\n",
       "      <td>NaN</td>\n",
       "      <td>NaN</td>\n",
       "      <td>NaN</td>\n",
       "      <td>NaN</td>\n",
       "      <td>NaN</td>\n",
       "    </tr>\n",
       "  </tbody>\n",
       "</table>\n",
       "</div>"
      ],
      "text/plain": [
       "                                          evaluation_id question_id  sample_n  \\\n",
       "1116  TC014_gemini-1.5-pro-latest_1_Technical_contex...       TC014         1   \n",
       "1368  CG004_gemini-1.5-pro-latest_4_General Knowledg...       CG004         4   \n",
       "422   CG004_3_General Knowledge_gemini-1.5-pro-lates...       CG004         3   \n",
       "413   CG002_3_General Knowledge_sabia-3.1_detailed_v...       CG002         3   \n",
       "451   CR005_4_Creative_gpt-4o_detailed_vs_structured_en       CR005         4   \n",
       "\n",
       "                 domain language                  model  \\\n",
       "1116          Technical      NaN  gemini-1.5-pro-latest   \n",
       "1368  General Knowledge      NaN  gemini-1.5-pro-latest   \n",
       "422   General Knowledge       en  gemini-1.5-pro-latest   \n",
       "413   General Knowledge       en              sabia-3.1   \n",
       "451            Creative       en                 gpt-4o   \n",
       "\n",
       "                    comparison  \\\n",
       "1116                       NaN   \n",
       "1368                       NaN   \n",
       "422   contextual_vs_structured   \n",
       "413     detailed_vs_structured   \n",
       "451     detailed_vs_structured   \n",
       "\n",
       "                                             response_A prompt_level_of_A  \\\n",
       "1116  The primary use of a NumPy array is to efficie...               NaN   \n",
       "1368  The Proclamation of the Republic in Brazil on ...               NaN   \n",
       "422   The Proclamation of the Republic in Brazil in ...        structured   \n",
       "413    The fall of the Berlin Wall on November 9, 19...          detailed   \n",
       "451   In the quiet corners of the city, there stood ...        structured   \n",
       "\n",
       "                                             response_B prompt_level_of_B  \\\n",
       "1116  Numple matrices are the central data structure...               NaN   \n",
       "1368  The proclamation of the Republic in Brazil, on...               NaN   \n",
       "422   The Proclamation of the Republic in Brazil on ...        contextual   \n",
       "413    The fall of the Berlin Wall in 1989 is signif...        structured   \n",
       "451   Title: \"The Library of Lost Memories\"\\n\\n**Con...          detailed   \n",
       "\n",
       "     prompt_level model_of_A model_of_B       source_of_A         source_of_B  \\\n",
       "1116   contextual        NaN        NaN  english_original  portuguese_pivoted   \n",
       "1368      minimum        NaN        NaN  english_original  portuguese_pivoted   \n",
       "422           NaN        NaN        NaN               NaN                 NaN   \n",
       "413           NaN        NaN        NaN               NaN                 NaN   \n",
       "451           NaN        NaN        NaN               NaN                 NaN   \n",
       "\n",
       "                                   original_pt_response  \n",
       "1116  As matrizes NumPy são a estrutura de dados cen...  \n",
       "1368  A Proclamação da República no Brasil, em 15 de...  \n",
       "422                                                 NaN  \n",
       "413                                                 NaN  \n",
       "451                                                 NaN  "
      ]
     },
     "execution_count": 11,
     "metadata": {},
     "output_type": "execute_result"
    }
   ],
   "source": [
    "sampled_df.head()"
   ]
  },
  {
   "cell_type": "code",
   "execution_count": null,
   "id": "824c73c8",
   "metadata": {},
   "outputs": [],
   "source": []
  }
 ],
 "metadata": {
  "kernelspec": {
   "display_name": "ia-py10",
   "language": "python",
   "name": "python3"
  },
  "language_info": {
   "codemirror_mode": {
    "name": "ipython",
    "version": 3
   },
   "file_extension": ".py",
   "mimetype": "text/x-python",
   "name": "python",
   "nbconvert_exporter": "python",
   "pygments_lexer": "ipython3",
   "version": "3.10.18"
  }
 },
 "nbformat": 4,
 "nbformat_minor": 5
}
