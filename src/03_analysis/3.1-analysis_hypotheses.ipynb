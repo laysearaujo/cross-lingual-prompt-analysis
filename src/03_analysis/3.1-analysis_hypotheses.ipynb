{
 "cells": [
  {
   "cell_type": "code",
   "execution_count": 35,
   "id": "2cefad12",
   "metadata": {},
   "outputs": [],
   "source": [
    "import pandas as pd\n",
    "import numpy as np\n",
    "import matplotlib.pyplot as plt\n",
    "import seaborn as sns"
   ]
  },
  {
   "cell_type": "code",
   "execution_count": 36,
   "id": "b3d4af80",
   "metadata": {},
   "outputs": [],
   "source": [
    "FICHEIRO_MESTRE = '../../data/analysis/complete_analysis.csv'\n",
    "HIERARQUIA_PROMPTS = ['contextual', 'structured', 'detailed', 'minimum']"
   ]
  },
  {
   "cell_type": "code",
   "execution_count": 37,
   "id": "66636a50",
   "metadata": {},
   "outputs": [
    {
     "data": {
      "text/html": [
       "<div>\n",
       "<style scoped>\n",
       "    .dataframe tbody tr th:only-of-type {\n",
       "        vertical-align: middle;\n",
       "    }\n",
       "\n",
       "    .dataframe tbody tr th {\n",
       "        vertical-align: top;\n",
       "    }\n",
       "\n",
       "    .dataframe thead th {\n",
       "        text-align: right;\n",
       "    }\n",
       "</style>\n",
       "<table border=\"1\" class=\"dataframe\">\n",
       "  <thead>\n",
       "    <tr style=\"text-align: right;\">\n",
       "      <th></th>\n",
       "      <th>evaluation_id</th>\n",
       "      <th>response_A</th>\n",
       "      <th>response_B</th>\n",
       "      <th>evaluation_claude</th>\n",
       "      <th>evaluation_prometheus</th>\n",
       "      <th>evaluation_mistral</th>\n",
       "      <th>claude_winner</th>\n",
       "      <th>claude_total_score</th>\n",
       "      <th>mistral_winner</th>\n",
       "      <th>mistral_total_score</th>\n",
       "      <th>...</th>\n",
       "      <th>model</th>\n",
       "      <th>comparison</th>\n",
       "      <th>prompt_level_of_A</th>\n",
       "      <th>prompt_level_of_B</th>\n",
       "      <th>prompt_level</th>\n",
       "      <th>model_of_A</th>\n",
       "      <th>model_of_B</th>\n",
       "      <th>source_of_A</th>\n",
       "      <th>source_of_B</th>\n",
       "      <th>original_pt_response</th>\n",
       "    </tr>\n",
       "  </thead>\n",
       "  <tbody>\n",
       "    <tr>\n",
       "      <th>0</th>\n",
       "      <td>TC014_gemini-1.5-pro-latest_1_Technical_contex...</td>\n",
       "      <td>The primary use of a NumPy array is to efficie...</td>\n",
       "      <td>Numple matrices are the central data structure...</td>\n",
       "      <td>{\\n    \"winner\": \"A\",\\n    \"general_justificat...</td>\n",
       "      <td>{\\n        \"winner\": \"A\",\\n        \"general_ju...</td>\n",
       "      <td>{\\n        \"winner\": \"A\",\\n        \"general_j...</td>\n",
       "      <td>A</td>\n",
       "      <td>5.0</td>\n",
       "      <td>A</td>\n",
       "      <td>5.00</td>\n",
       "      <td>...</td>\n",
       "      <td>gemini-1.5-pro-latest</td>\n",
       "      <td>NaN</td>\n",
       "      <td>NaN</td>\n",
       "      <td>NaN</td>\n",
       "      <td>contextual</td>\n",
       "      <td>NaN</td>\n",
       "      <td>NaN</td>\n",
       "      <td>english_original</td>\n",
       "      <td>portuguese_pivoted</td>\n",
       "      <td>As matrizes NumPy são a estrutura de dados cen...</td>\n",
       "    </tr>\n",
       "    <tr>\n",
       "      <th>1</th>\n",
       "      <td>CG004_gemini-1.5-pro-latest_4_General Knowledg...</td>\n",
       "      <td>The Proclamation of the Republic in Brazil on ...</td>\n",
       "      <td>The proclamation of the Republic in Brazil, on...</td>\n",
       "      <td>{\\n    \"winner\": \"A\",\\n    \"general_justificat...</td>\n",
       "      <td>{\\n\"winner\": \"Tie\",\\n\"general_justification\": ...</td>\n",
       "      <td>{\\n  \"winner\": \"A\",\\n  \"general_justification...</td>\n",
       "      <td>A</td>\n",
       "      <td>5.0</td>\n",
       "      <td>A</td>\n",
       "      <td>4.75</td>\n",
       "      <td>...</td>\n",
       "      <td>gemini-1.5-pro-latest</td>\n",
       "      <td>NaN</td>\n",
       "      <td>NaN</td>\n",
       "      <td>NaN</td>\n",
       "      <td>minimum</td>\n",
       "      <td>NaN</td>\n",
       "      <td>NaN</td>\n",
       "      <td>english_original</td>\n",
       "      <td>portuguese_pivoted</td>\n",
       "      <td>A Proclamação da República no Brasil, em 15 de...</td>\n",
       "    </tr>\n",
       "  </tbody>\n",
       "</table>\n",
       "<p>2 rows × 29 columns</p>\n",
       "</div>"
      ],
      "text/plain": [
       "                                       evaluation_id  \\\n",
       "0  TC014_gemini-1.5-pro-latest_1_Technical_contex...   \n",
       "1  CG004_gemini-1.5-pro-latest_4_General Knowledg...   \n",
       "\n",
       "                                          response_A  \\\n",
       "0  The primary use of a NumPy array is to efficie...   \n",
       "1  The Proclamation of the Republic in Brazil on ...   \n",
       "\n",
       "                                          response_B  \\\n",
       "0  Numple matrices are the central data structure...   \n",
       "1  The proclamation of the Republic in Brazil, on...   \n",
       "\n",
       "                                   evaluation_claude  \\\n",
       "0  {\\n    \"winner\": \"A\",\\n    \"general_justificat...   \n",
       "1  {\\n    \"winner\": \"A\",\\n    \"general_justificat...   \n",
       "\n",
       "                               evaluation_prometheus  \\\n",
       "0  {\\n        \"winner\": \"A\",\\n        \"general_ju...   \n",
       "1  {\\n\"winner\": \"Tie\",\\n\"general_justification\": ...   \n",
       "\n",
       "                                  evaluation_mistral claude_winner  \\\n",
       "0   {\\n        \"winner\": \"A\",\\n        \"general_j...             A   \n",
       "1   {\\n  \"winner\": \"A\",\\n  \"general_justification...             A   \n",
       "\n",
       "   claude_total_score mistral_winner  mistral_total_score  ...  \\\n",
       "0                 5.0              A                 5.00  ...   \n",
       "1                 5.0              A                 4.75  ...   \n",
       "\n",
       "                   model  comparison prompt_level_of_A prompt_level_of_B  \\\n",
       "0  gemini-1.5-pro-latest         NaN               NaN               NaN   \n",
       "1  gemini-1.5-pro-latest         NaN               NaN               NaN   \n",
       "\n",
       "  prompt_level model_of_A model_of_B       source_of_A         source_of_B  \\\n",
       "0   contextual        NaN        NaN  english_original  portuguese_pivoted   \n",
       "1      minimum        NaN        NaN  english_original  portuguese_pivoted   \n",
       "\n",
       "                                original_pt_response  \n",
       "0  As matrizes NumPy são a estrutura de dados cen...  \n",
       "1  A Proclamação da República no Brasil, em 15 de...  \n",
       "\n",
       "[2 rows x 29 columns]"
      ]
     },
     "execution_count": 37,
     "metadata": {},
     "output_type": "execute_result"
    }
   ],
   "source": [
    "df_analise = pd.read_csv(FICHEIRO_DADOS_VALIDADOS)\n",
    "df_analise.head(2)"
   ]
  },
  {
   "cell_type": "code",
   "execution_count": 38,
   "id": "0326e58d",
   "metadata": {},
   "outputs": [
    {
     "name": "stdout",
     "output_type": "stream",
     "text": [
      "\n",
      "500 pares de comparação de prompts encontrados para a análise.\n"
     ]
    }
   ],
   "source": [
    "if 'prompt_level_of_A' in df_analise.columns and 'prompt_level_of_B' in df_analise.columns:\n",
    "    df_prompts = df_analise[df_analise['prompt_level_of_A'].notna() & df_analise['prompt_level_of_B'].notna()].copy()\n",
    "    print(f\"\\n{len(df_prompts)} pares de comparação de prompts encontrados para a análise.\")"
   ]
  },
  {
   "cell_type": "code",
   "execution_count": 39,
   "id": "1d243aba",
   "metadata": {},
   "outputs": [],
   "source": [
    "# A análise principal será baseada no voto da maioria do comitê de LLMs\n",
    "coluna_vencedor = 'gold_winner'"
   ]
  },
  {
   "cell_type": "code",
   "execution_count": 40,
   "id": "65b688c7",
   "metadata": {},
   "outputs": [],
   "source": [
    "df_analise['comparacao_prompt'] = df_analise['evaluation_id'].apply(extrair_metadados_prompt)"
   ]
  },
  {
   "cell_type": "code",
   "execution_count": 41,
   "id": "cd8743dc",
   "metadata": {},
   "outputs": [],
   "source": [
    "def calcular_resultados_completos(df, p_menos, p_mais, idioma):\n",
    "    # Filtra para a comparação e idioma corretos\n",
    "    subset = df[\n",
    "        (df['language'] == idioma) & \n",
    "        (((df['prompt_level_of_A'] == p_menos) & (df['prompt_level_of_B'] == p_mais)) |\n",
    "            ((df['prompt_level_of_A'] == p_mais) & (df['prompt_level_of_B'] == p_menos)))\n",
    "    ]\n",
    "    if len(subset) == 0: return None\n",
    "    \n",
    "    total_pares = len(subset)\n",
    "    vitorias_p_menos = 0\n",
    "    vitorias_p_mais = 0\n",
    "    \n",
    "    for _, row in subset.iterrows():\n",
    "        if row[coluna_vencedor] == 'A':\n",
    "            if row['prompt_level_of_A'] == p_mais: vitorias_p_mais += 1\n",
    "            else: vitorias_p_menos += 1\n",
    "        elif row[coluna_vencedor] == 'B':\n",
    "            if row['prompt_level_of_B'] == p_mais: vitorias_p_mais += 1\n",
    "            else: vitorias_p_menos += 1\n",
    "    \n",
    "    empates = total_pares - vitorias_p_menos - vitorias_p_mais\n",
    "    \n",
    "    return {\n",
    "        f'vitoria_{p_menos}': vitorias_p_menos / total_pares,\n",
    "        f'vitoria_{p_mais}': vitorias_p_mais / total_pares,\n",
    "        'empate': empates / total_pares\n",
    "    }"
   ]
  },
  {
   "cell_type": "code",
   "execution_count": 42,
   "id": "807040f3",
   "metadata": {},
   "outputs": [],
   "source": [
    "# > H₁: Prompts mais específicos melhoram o desempenho em ambos os idiomas.\n",
    "resultados_h1 = []\n",
    "for i in range(len(HIERARQUIA_PROMPTS)):\n",
    "    for j in range(i + 1, len(HIERARQUIA_PROMPTS)):\n",
    "        p_menos, p_mais = HIERARQUIA_PROMPTS[i], HIERARQUIA_PROMPTS[j]\n",
    "        for lang in ['en', 'pt']:\n",
    "            taxas = calcular_resultados_completos(df_prompts, p_menos, p_mais, lang)\n",
    "            if taxas is not None:\n",
    "                resultados_h1.append({\n",
    "                    'Comparacao': f\"{p_mais} vs. {p_menos}\",\n",
    "                    'Idioma': lang.upper(),\n",
    "                    f'Vitoria_{p_menos} (%)': taxas[f'vitoria_{p_menos}'],\n",
    "                    f'Vitoria_{p_mais} (%)': taxas[f'vitoria_{p_mais}'],\n",
    "                    'Empate (%)': taxas['empate']\n",
    "                })"
   ]
  },
  {
   "cell_type": "code",
   "execution_count": 43,
   "id": "27083bde",
   "metadata": {},
   "outputs": [],
   "source": [
    "def calcular_taxa_vitoria(df, p_menos, p_mais, idioma):\n",
    "    # Usa a coluna 'language_context' que criámos no notebook anterior\n",
    "    lang_col = 'language_context'\n",
    "    \n",
    "    subset = df[(df[lang_col].str.upper() == idioma) & (df['prompt_A_nome'] == p_menos) & (df['prompt_B_nome'] == p_mais)]\n",
    "    if len(subset) == 0: return np.nan\n",
    "    \n",
    "    # Como p_mais é sempre B na nossa lógica, contamos as vitórias de B\n",
    "    vitorias_mais_especifico = (subset[coluna_vencedor] == 'B').sum()\n",
    "    return vitorias_mais_especifico / len(subset)"
   ]
  },
  {
   "cell_type": "code",
   "execution_count": 44,
   "id": "23541493",
   "metadata": {},
   "outputs": [
    {
     "ename": "KeyError",
     "evalue": "'prompt_A_nome'",
     "output_type": "error",
     "traceback": [
      "\u001b[0;31m---------------------------------------------------------------------------\u001b[0m",
      "\u001b[0;31mKeyError\u001b[0m                                  Traceback (most recent call last)",
      "File \u001b[0;32m~/miniforge3/envs/ia-py10/lib/python3.10/site-packages/pandas/core/indexes/base.py:3812\u001b[0m, in \u001b[0;36mIndex.get_loc\u001b[0;34m(self, key)\u001b[0m\n\u001b[1;32m   3811\u001b[0m \u001b[38;5;28;01mtry\u001b[39;00m:\n\u001b[0;32m-> 3812\u001b[0m     \u001b[38;5;28;01mreturn\u001b[39;00m \u001b[38;5;28;43mself\u001b[39;49m\u001b[38;5;241;43m.\u001b[39;49m\u001b[43m_engine\u001b[49m\u001b[38;5;241;43m.\u001b[39;49m\u001b[43mget_loc\u001b[49m\u001b[43m(\u001b[49m\u001b[43mcasted_key\u001b[49m\u001b[43m)\u001b[49m\n\u001b[1;32m   3813\u001b[0m \u001b[38;5;28;01mexcept\u001b[39;00m \u001b[38;5;167;01mKeyError\u001b[39;00m \u001b[38;5;28;01mas\u001b[39;00m err:\n",
      "File \u001b[0;32mpandas/_libs/index.pyx:167\u001b[0m, in \u001b[0;36mpandas._libs.index.IndexEngine.get_loc\u001b[0;34m()\u001b[0m\n",
      "File \u001b[0;32mpandas/_libs/index.pyx:196\u001b[0m, in \u001b[0;36mpandas._libs.index.IndexEngine.get_loc\u001b[0;34m()\u001b[0m\n",
      "File \u001b[0;32mpandas/_libs/hashtable_class_helper.pxi:7088\u001b[0m, in \u001b[0;36mpandas._libs.hashtable.PyObjectHashTable.get_item\u001b[0;34m()\u001b[0m\n",
      "File \u001b[0;32mpandas/_libs/hashtable_class_helper.pxi:7096\u001b[0m, in \u001b[0;36mpandas._libs.hashtable.PyObjectHashTable.get_item\u001b[0;34m()\u001b[0m\n",
      "\u001b[0;31mKeyError\u001b[0m: 'prompt_A_nome'",
      "\nThe above exception was the direct cause of the following exception:\n",
      "\u001b[0;31mKeyError\u001b[0m                                  Traceback (most recent call last)",
      "Cell \u001b[0;32mIn[44], line 8\u001b[0m\n\u001b[1;32m      5\u001b[0m \u001b[38;5;66;03m# A análise da H1 foca-se no desempenho DENTRO de cada idioma.\u001b[39;00m\n\u001b[1;32m      6\u001b[0m \u001b[38;5;66;03m# Por isso, iteramos apenas sobre 'EN' e 'PT'.\u001b[39;00m\n\u001b[1;32m      7\u001b[0m \u001b[38;5;28;01mfor\u001b[39;00m lang \u001b[38;5;129;01min\u001b[39;00m [\u001b[38;5;124m'\u001b[39m\u001b[38;5;124mEN\u001b[39m\u001b[38;5;124m'\u001b[39m, \u001b[38;5;124m'\u001b[39m\u001b[38;5;124mPT\u001b[39m\u001b[38;5;124m'\u001b[39m]:\n\u001b[0;32m----> 8\u001b[0m     taxa \u001b[38;5;241m=\u001b[39m \u001b[43mcalcular_taxa_vitoria\u001b[49m\u001b[43m(\u001b[49m\u001b[43mdf_prompts\u001b[49m\u001b[43m,\u001b[49m\u001b[43m \u001b[49m\u001b[43mp_menos\u001b[49m\u001b[43m,\u001b[49m\u001b[43m \u001b[49m\u001b[43mp_mais\u001b[49m\u001b[43m,\u001b[49m\u001b[43m \u001b[49m\u001b[43mlang\u001b[49m\u001b[43m)\u001b[49m\n\u001b[1;32m      9\u001b[0m     \u001b[38;5;28;01mif\u001b[39;00m \u001b[38;5;129;01mnot\u001b[39;00m pd\u001b[38;5;241m.\u001b[39misna(taxa):\n\u001b[1;32m     10\u001b[0m         resultados_h1\u001b[38;5;241m.\u001b[39mappend({\u001b[38;5;124m'\u001b[39m\u001b[38;5;124mComparacao\u001b[39m\u001b[38;5;124m'\u001b[39m: \u001b[38;5;124mf\u001b[39m\u001b[38;5;124m\"\u001b[39m\u001b[38;5;132;01m{\u001b[39;00mp_mais\u001b[38;5;132;01m}\u001b[39;00m\u001b[38;5;124m vs. \u001b[39m\u001b[38;5;132;01m{\u001b[39;00mp_menos\u001b[38;5;132;01m}\u001b[39;00m\u001b[38;5;124m\"\u001b[39m, \u001b[38;5;124m'\u001b[39m\u001b[38;5;124mIdioma\u001b[39m\u001b[38;5;124m'\u001b[39m: lang, \u001b[38;5;124m'\u001b[39m\u001b[38;5;124mTaxa de Vitoria\u001b[39m\u001b[38;5;124m'\u001b[39m: taxa})\n",
      "Cell \u001b[0;32mIn[43], line 5\u001b[0m, in \u001b[0;36mcalcular_taxa_vitoria\u001b[0;34m(df, p_menos, p_mais, idioma)\u001b[0m\n\u001b[1;32m      1\u001b[0m \u001b[38;5;28;01mdef\u001b[39;00m\u001b[38;5;250m \u001b[39m\u001b[38;5;21mcalcular_taxa_vitoria\u001b[39m(df, p_menos, p_mais, idioma):\n\u001b[1;32m      2\u001b[0m     \u001b[38;5;66;03m# Usa a coluna 'language_context' que criámos no notebook anterior\u001b[39;00m\n\u001b[1;32m      3\u001b[0m     lang_col \u001b[38;5;241m=\u001b[39m \u001b[38;5;124m'\u001b[39m\u001b[38;5;124mlanguage_context\u001b[39m\u001b[38;5;124m'\u001b[39m\n\u001b[0;32m----> 5\u001b[0m     subset \u001b[38;5;241m=\u001b[39m df[(df[lang_col]\u001b[38;5;241m.\u001b[39mstr\u001b[38;5;241m.\u001b[39mupper() \u001b[38;5;241m==\u001b[39m idioma) \u001b[38;5;241m&\u001b[39m (\u001b[43mdf\u001b[49m\u001b[43m[\u001b[49m\u001b[38;5;124;43m'\u001b[39;49m\u001b[38;5;124;43mprompt_A_nome\u001b[39;49m\u001b[38;5;124;43m'\u001b[39;49m\u001b[43m]\u001b[49m \u001b[38;5;241m==\u001b[39m p_menos) \u001b[38;5;241m&\u001b[39m (df[\u001b[38;5;124m'\u001b[39m\u001b[38;5;124mprompt_B_nome\u001b[39m\u001b[38;5;124m'\u001b[39m] \u001b[38;5;241m==\u001b[39m p_mais)]\n\u001b[1;32m      6\u001b[0m     \u001b[38;5;28;01mif\u001b[39;00m \u001b[38;5;28mlen\u001b[39m(subset) \u001b[38;5;241m==\u001b[39m \u001b[38;5;241m0\u001b[39m: \u001b[38;5;28;01mreturn\u001b[39;00m np\u001b[38;5;241m.\u001b[39mnan\n\u001b[1;32m      8\u001b[0m     \u001b[38;5;66;03m# Como p_mais é sempre B na nossa lógica, contamos as vitórias de B\u001b[39;00m\n",
      "File \u001b[0;32m~/miniforge3/envs/ia-py10/lib/python3.10/site-packages/pandas/core/frame.py:4107\u001b[0m, in \u001b[0;36mDataFrame.__getitem__\u001b[0;34m(self, key)\u001b[0m\n\u001b[1;32m   4105\u001b[0m \u001b[38;5;28;01mif\u001b[39;00m \u001b[38;5;28mself\u001b[39m\u001b[38;5;241m.\u001b[39mcolumns\u001b[38;5;241m.\u001b[39mnlevels \u001b[38;5;241m>\u001b[39m \u001b[38;5;241m1\u001b[39m:\n\u001b[1;32m   4106\u001b[0m     \u001b[38;5;28;01mreturn\u001b[39;00m \u001b[38;5;28mself\u001b[39m\u001b[38;5;241m.\u001b[39m_getitem_multilevel(key)\n\u001b[0;32m-> 4107\u001b[0m indexer \u001b[38;5;241m=\u001b[39m \u001b[38;5;28;43mself\u001b[39;49m\u001b[38;5;241;43m.\u001b[39;49m\u001b[43mcolumns\u001b[49m\u001b[38;5;241;43m.\u001b[39;49m\u001b[43mget_loc\u001b[49m\u001b[43m(\u001b[49m\u001b[43mkey\u001b[49m\u001b[43m)\u001b[49m\n\u001b[1;32m   4108\u001b[0m \u001b[38;5;28;01mif\u001b[39;00m is_integer(indexer):\n\u001b[1;32m   4109\u001b[0m     indexer \u001b[38;5;241m=\u001b[39m [indexer]\n",
      "File \u001b[0;32m~/miniforge3/envs/ia-py10/lib/python3.10/site-packages/pandas/core/indexes/base.py:3819\u001b[0m, in \u001b[0;36mIndex.get_loc\u001b[0;34m(self, key)\u001b[0m\n\u001b[1;32m   3814\u001b[0m     \u001b[38;5;28;01mif\u001b[39;00m \u001b[38;5;28misinstance\u001b[39m(casted_key, \u001b[38;5;28mslice\u001b[39m) \u001b[38;5;129;01mor\u001b[39;00m (\n\u001b[1;32m   3815\u001b[0m         \u001b[38;5;28misinstance\u001b[39m(casted_key, abc\u001b[38;5;241m.\u001b[39mIterable)\n\u001b[1;32m   3816\u001b[0m         \u001b[38;5;129;01mand\u001b[39;00m \u001b[38;5;28many\u001b[39m(\u001b[38;5;28misinstance\u001b[39m(x, \u001b[38;5;28mslice\u001b[39m) \u001b[38;5;28;01mfor\u001b[39;00m x \u001b[38;5;129;01min\u001b[39;00m casted_key)\n\u001b[1;32m   3817\u001b[0m     ):\n\u001b[1;32m   3818\u001b[0m         \u001b[38;5;28;01mraise\u001b[39;00m InvalidIndexError(key)\n\u001b[0;32m-> 3819\u001b[0m     \u001b[38;5;28;01mraise\u001b[39;00m \u001b[38;5;167;01mKeyError\u001b[39;00m(key) \u001b[38;5;28;01mfrom\u001b[39;00m\u001b[38;5;250m \u001b[39m\u001b[38;5;21;01merr\u001b[39;00m\n\u001b[1;32m   3820\u001b[0m \u001b[38;5;28;01mexcept\u001b[39;00m \u001b[38;5;167;01mTypeError\u001b[39;00m:\n\u001b[1;32m   3821\u001b[0m     \u001b[38;5;66;03m# If we have a listlike key, _check_indexing_error will raise\u001b[39;00m\n\u001b[1;32m   3822\u001b[0m     \u001b[38;5;66;03m#  InvalidIndexError. Otherwise we fall through and re-raise\u001b[39;00m\n\u001b[1;32m   3823\u001b[0m     \u001b[38;5;66;03m#  the TypeError.\u001b[39;00m\n\u001b[1;32m   3824\u001b[0m     \u001b[38;5;28mself\u001b[39m\u001b[38;5;241m.\u001b[39m_check_indexing_error(key)\n",
      "\u001b[0;31mKeyError\u001b[0m: 'prompt_A_nome'"
     ]
    }
   ],
   "source": [
    "resultados_h1 = []\n",
    "for i in range(len(HIERARQUIA_PROMPTS)):\n",
    "    for j in range(i + 1, len(HIERARQUIA_PROMPTS)):\n",
    "        p_menos, p_mais = HIERARQUIA_PROMPTS[i], HIERARQUIA_PROMPTS[j]\n",
    "        # A análise da H1 foca-se no desempenho DENTRO de cada idioma.\n",
    "        # Por isso, iteramos apenas sobre 'EN' e 'PT'.\n",
    "        for lang in ['EN', 'PT']:\n",
    "            taxa = calcular_taxa_vitoria(df_prompts, p_menos, p_mais, lang)\n",
    "            if not pd.isna(taxa):\n",
    "                resultados_h1.append({'Comparacao': f\"{p_mais} vs. {p_menos}\", 'Idioma': lang, 'Taxa de Vitoria': taxa})\n",
    "\n",
    "df_resultados_h1 = pd.DataFrame(resultados_h1)"
   ]
  },
  {
   "cell_type": "code",
   "execution_count": null,
   "id": "32addc83",
   "metadata": {},
   "outputs": [
    {
     "name": "stdout",
     "output_type": "stream",
     "text": [
      "\n",
      "==========================================================================================\n",
      "RESULTADOS PARA H₁: Distribuição Completa de Resultados (Baseado no Comitê de LLMs)\n",
      "==========================================================================================\n"
     ]
    },
    {
     "data": {
      "text/html": [
       "<div>\n",
       "<style scoped>\n",
       "    .dataframe tbody tr th:only-of-type {\n",
       "        vertical-align: middle;\n",
       "    }\n",
       "\n",
       "    .dataframe tbody tr th {\n",
       "        vertical-align: top;\n",
       "    }\n",
       "\n",
       "    .dataframe thead th {\n",
       "        text-align: right;\n",
       "    }\n",
       "</style>\n",
       "<table border=\"1\" class=\"dataframe\">\n",
       "  <thead>\n",
       "    <tr style=\"text-align: right;\">\n",
       "      <th></th>\n",
       "      <th>Comparacao</th>\n",
       "      <th>Idioma</th>\n",
       "      <th>Vitoria_contextual (%)</th>\n",
       "      <th>Vitoria_structured (%)</th>\n",
       "      <th>Empate (%)</th>\n",
       "      <th>Vitoria_detailed (%)</th>\n",
       "      <th>Vitoria_minimum (%)</th>\n",
       "    </tr>\n",
       "  </thead>\n",
       "  <tbody>\n",
       "    <tr>\n",
       "      <th>0</th>\n",
       "      <td>structured vs. contextual</td>\n",
       "      <td>EN</td>\n",
       "      <td>0.372093</td>\n",
       "      <td>0.418605</td>\n",
       "      <td>0.209302</td>\n",
       "      <td>NaN</td>\n",
       "      <td>NaN</td>\n",
       "    </tr>\n",
       "    <tr>\n",
       "      <th>1</th>\n",
       "      <td>structured vs. contextual</td>\n",
       "      <td>PT</td>\n",
       "      <td>0.466667</td>\n",
       "      <td>0.400000</td>\n",
       "      <td>0.133333</td>\n",
       "      <td>NaN</td>\n",
       "      <td>NaN</td>\n",
       "    </tr>\n",
       "    <tr>\n",
       "      <th>2</th>\n",
       "      <td>detailed vs. contextual</td>\n",
       "      <td>EN</td>\n",
       "      <td>0.388889</td>\n",
       "      <td>NaN</td>\n",
       "      <td>0.388889</td>\n",
       "      <td>0.222222</td>\n",
       "      <td>NaN</td>\n",
       "    </tr>\n",
       "    <tr>\n",
       "      <th>3</th>\n",
       "      <td>detailed vs. contextual</td>\n",
       "      <td>PT</td>\n",
       "      <td>0.266667</td>\n",
       "      <td>NaN</td>\n",
       "      <td>0.333333</td>\n",
       "      <td>0.400000</td>\n",
       "      <td>NaN</td>\n",
       "    </tr>\n",
       "    <tr>\n",
       "      <th>4</th>\n",
       "      <td>minimum vs. contextual</td>\n",
       "      <td>EN</td>\n",
       "      <td>0.414634</td>\n",
       "      <td>NaN</td>\n",
       "      <td>0.365854</td>\n",
       "      <td>NaN</td>\n",
       "      <td>0.219512</td>\n",
       "    </tr>\n",
       "  </tbody>\n",
       "</table>\n",
       "</div>"
      ],
      "text/plain": [
       "                  Comparacao Idioma  Vitoria_contextual (%)  \\\n",
       "0  structured vs. contextual     EN                0.372093   \n",
       "1  structured vs. contextual     PT                0.466667   \n",
       "2    detailed vs. contextual     EN                0.388889   \n",
       "3    detailed vs. contextual     PT                0.266667   \n",
       "4     minimum vs. contextual     EN                0.414634   \n",
       "\n",
       "   Vitoria_structured (%)  Empate (%)  Vitoria_detailed (%)  \\\n",
       "0                0.418605    0.209302                   NaN   \n",
       "1                0.400000    0.133333                   NaN   \n",
       "2                     NaN    0.388889              0.222222   \n",
       "3                     NaN    0.333333              0.400000   \n",
       "4                     NaN    0.365854                   NaN   \n",
       "\n",
       "   Vitoria_minimum (%)  \n",
       "0                  NaN  \n",
       "1                  NaN  \n",
       "2                  NaN  \n",
       "3                  NaN  \n",
       "4             0.219512  "
      ]
     },
     "execution_count": 25,
     "metadata": {},
     "output_type": "execute_result"
    }
   ],
   "source": [
    "print(\"\\n\" + \"=\"*90)\n",
    "print(\"RESULTADOS PARA H₁: Distribuição Completa de Resultados (Baseado no Comitê de LLMs)\")\n",
    "print(\"=\"*90)\n",
    "\n",
    "df_resultados_h1 = pd.DataFrame(resultados_h1)\n",
    "df_resultados_h1.head()"
   ]
  },
  {
   "cell_type": "code",
   "execution_count": null,
   "id": "3d96f108",
   "metadata": {},
   "outputs": [
    {
     "data": {
      "text/plain": [
       "(500, 29)"
      ]
     },
     "execution_count": 27,
     "metadata": {},
     "output_type": "execute_result"
    }
   ],
   "source": [
    "# > H₂: O ganho de desempenho obtido com prompts específicos difere entre português e inglês.\n",
    "df_cross_lingual = df_analise[df_analise['evaluation_id'].str.endswith('_en_vs_pt', na=False)].copy()\n",
    "df_cross_lingual.shape"
   ]
  },
  {
   "cell_type": "code",
   "execution_count": null,
   "id": "139cbf02",
   "metadata": {},
   "outputs": [],
   "source": [
    "vitorias_en = 0\n",
    "vitorias_pt_pivoted = 0\n",
    "\n",
    "for _, row in df_cross_lingual.iterrows():\n",
    "    vencedor = row['gold_winner']\n",
    "    if vencedor == 'A':\n",
    "        if row['source_of_A'] == 'english_original':\n",
    "            vitorias_en += 1\n",
    "        elif row['source_of_A'] == 'portuguese_pivoted':\n",
    "            vitorias_pt_pivoted += 1\n",
    "    elif vencedor == 'B':\n",
    "        if row['source_of_B'] == 'english_original':\n",
    "            vitorias_en += 1\n",
    "        elif row['source_of_B'] == 'portuguese_pivoted':\n",
    "            vitorias_pt_pivoted += 1\n",
    "\n",
    "total_pares = len(df_cross_lingual)\n",
    "empates = total_pares - vitorias_en - vitorias_pt_pivoted\n",
    "\n",
    "resultados_h2 = pd.DataFrame({\n",
    "    'Fonte da Resposta': ['Inglês (Original)', 'Português (Traduzido)', 'Empate'],\n",
    "    'Taxa de Vitória': [vitorias_en / total_pares, vitorias_pt_pivoted / total_pares, empates / total_pares]\n",
    "})"
   ]
  },
  {
   "cell_type": "code",
   "execution_count": null,
   "id": "2e32d97d",
   "metadata": {},
   "outputs": [
    {
     "name": "stdout",
     "output_type": "stream",
     "text": [
      "\n",
      "======================================================================\n",
      "RESULTADOS PARA H₂: Comparação da Qualidade Cross-Lingual\n",
      "======================================================================\n",
      "Análise baseada na avaliação de respostas originais em Inglês vs. respostas de Português traduzidas para Inglês.\n"
     ]
    },
    {
     "data": {
      "text/html": [
       "<div>\n",
       "<style scoped>\n",
       "    .dataframe tbody tr th:only-of-type {\n",
       "        vertical-align: middle;\n",
       "    }\n",
       "\n",
       "    .dataframe tbody tr th {\n",
       "        vertical-align: top;\n",
       "    }\n",
       "\n",
       "    .dataframe thead th {\n",
       "        text-align: right;\n",
       "    }\n",
       "</style>\n",
       "<table border=\"1\" class=\"dataframe\">\n",
       "  <thead>\n",
       "    <tr style=\"text-align: right;\">\n",
       "      <th></th>\n",
       "      <th>Fonte da Resposta</th>\n",
       "      <th>Taxa de Vitória</th>\n",
       "    </tr>\n",
       "  </thead>\n",
       "  <tbody>\n",
       "    <tr>\n",
       "      <th>0</th>\n",
       "      <td>Inglês (Original)</td>\n",
       "      <td>57.40%</td>\n",
       "    </tr>\n",
       "    <tr>\n",
       "      <th>1</th>\n",
       "      <td>Português (Traduzido)</td>\n",
       "      <td>8.60%</td>\n",
       "    </tr>\n",
       "    <tr>\n",
       "      <th>2</th>\n",
       "      <td>Empate</td>\n",
       "      <td>34.00%</td>\n",
       "    </tr>\n",
       "  </tbody>\n",
       "</table>\n",
       "</div>"
      ],
      "text/plain": [
       "       Fonte da Resposta Taxa de Vitória\n",
       "0      Inglês (Original)          57.40%\n",
       "1  Português (Traduzido)           8.60%\n",
       "2                 Empate          34.00%"
      ]
     },
     "execution_count": 30,
     "metadata": {},
     "output_type": "execute_result"
    }
   ],
   "source": [
    "print(\"\\n\" + \"=\"*70)\n",
    "print(\"RESULTADOS PARA H₂: Comparação da Qualidade Cross-Lingual\")\n",
    "print(\"=\"*70)\n",
    "print(\"Análise baseada na avaliação de respostas originais em Inglês vs. respostas de Português traduzidas para Inglês.\")\n",
    "\n",
    "# Formata a tabela para melhor visualização\n",
    "resultados_h2_print = resultados_h2.copy()\n",
    "resultados_h2_print['Taxa de Vitória'] = resultados_h2_print['Taxa de Vitória'].map('{:.2%}'.format)\n",
    "resultados_h2_print.head()"
   ]
  },
  {
   "cell_type": "code",
   "execution_count": null,
   "id": "3d1c31db",
   "metadata": {},
   "outputs": [
    {
     "data": {
      "image/png": "[encoded data removed]",
      "text/plain": [
       "<Figure size 800x500 with 1 Axes>"
      ]
     },
     "metadata": {},
     "output_type": "display_data"
    }
   ],
   "source": [
    "fig, ax = plt.subplots(figsize=(8, 5))\n",
    "sns.barplot(data=resultados_h2, x='Fonte da Resposta', y='Taxa de Vitória', ax=ax)\n",
    "ax.set_title('Resultado da Comparação Cross-Lingual', fontsize=16)\n",
    "ax.set_ylabel('Percentagem de Resultados (%)')\n",
    "ax.set_xlabel('')\n",
    "ax.yaxis.set_major_formatter(plt.FuncFormatter(lambda y, _: f'{y:.0%}'))\n",
    "plt.tight_layout()\n",
    "plt.show()"
   ]
  },
  {
   "cell_type": "code",
   "execution_count": 46,
   "id": "4d352a23",
   "metadata": {},
   "outputs": [],
   "source": [
    "# Análise Cross-Model\n",
    "df_cross_model = df_analise[df_analise['model_of_A'].notna() & df_analise['model_of_B'].notna()].copy()"
   ]
  },
  {
   "cell_type": "code",
   "execution_count": 47,
   "id": "7ac8a3ab",
   "metadata": {},
   "outputs": [
    {
     "data": {
      "text/plain": [
       "array(['gemini-1.5-pro-latest', 'sabia-3.1', 'gpt-4o',\n",
       "       'llama-3.3-70b-versatile'], dtype=object)"
      ]
     },
     "execution_count": 47,
     "metadata": {},
     "output_type": "execute_result"
    }
   ],
   "source": [
    "models = pd.unique(df_cross_model[['model_of_A', 'model_of_B']].values.ravel('K'))\n",
    "models"
   ]
  },
  {
   "cell_type": "code",
   "execution_count": 49,
   "id": "81c9bcb7",
   "metadata": {},
   "outputs": [],
   "source": [
    "win_rate_matrix = pd.DataFrame(index=models, columns=models, dtype=float)\n",
    "\n",
    "for model_row in models:\n",
    "    for model_col in models:\n",
    "        if model_row == model_col:\n",
    "            continue # Não compara um modelo com ele mesmo\n",
    "        \n",
    "        # Filtra os confrontos entre os dois modelos\n",
    "        subset = df_cross_model[\n",
    "            ((df_cross_model['model_of_A'] == model_row) & (df_cross_model['model_of_B'] == model_col)) |\n",
    "            ((df_cross_model['model_of_A'] == model_col) & (df_cross_model['model_of_B'] == model_row))\n",
    "        ]\n",
    "        \n",
    "        if len(subset) == 0:\n",
    "            continue\n",
    "\n",
    "        wins_model_row = 0\n",
    "        for _, row in subset.iterrows():\n",
    "            if row['gold_winner'] == 'A' and row['model_of_A'] == model_row:\n",
    "                wins_model_row += 1\n",
    "            elif row['gold_winner'] == 'B' and row['model_of_B'] == model_row:\n",
    "                wins_model_row += 1\n",
    "        \n",
    "        win_rate_matrix.loc[model_row, model_col] = wins_model_row / len(subset)"
   ]
  },
  {
   "cell_type": "code",
   "execution_count": 51,
   "id": "3978a96d",
   "metadata": {},
   "outputs": [
    {
     "name": "stdout",
     "output_type": "stream",
     "text": [
      "\n",
      "======================================================================\n",
      "RESULTADOS CROSS-MODEL: Matriz de Taxa de Vitória\n",
      "======================================================================\n",
      "Lê-se: a linha X teve uma taxa de vitória de Y% contra a coluna Z.\n",
      "                        gemini-1.5-pro-latest sabia-3.1  gpt-4o  \\\n",
      "gemini-1.5-pro-latest                       -    26.26%  39.02%   \n",
      "sabia-3.1                              30.30%         -  28.41%   \n",
      "gpt-4o                                 28.05%    27.27%       -   \n",
      "llama-3.3-70b-versatile                30.86%    21.43%  21.21%   \n",
      "\n",
      "                        llama-3.3-70b-versatile  \n",
      "gemini-1.5-pro-latest                    41.98%  \n",
      "sabia-3.1                                37.14%  \n",
      "gpt-4o                                   36.36%  \n",
      "llama-3.3-70b-versatile                       -  \n"
     ]
    },
    {
     "name": "stderr",
     "output_type": "stream",
     "text": [
      "/var/folders/lr/rv52d6g56jbdxpkrbhsvqjzr0000gn/T/ipykernel_83707/3345577371.py:5: FutureWarning: DataFrame.applymap has been deprecated. Use DataFrame.map instead.\n",
      "  print(win_rate_matrix.fillna('-').applymap(lambda x: f'{x:.2%}' if isinstance(x, float) else x))\n"
     ]
    }
   ],
   "source": [
    "print(\"\\n\" + \"=\"*70)\n",
    "print(\"RESULTADOS CROSS-MODEL: Matriz de Taxa de Vitória\")\n",
    "print(\"=\"*70)\n",
    "print(\"Lê-se: a linha X teve uma taxa de vitória de Y% contra a coluna Z.\")\n",
    "print(win_rate_matrix.fillna('-').applymap(lambda x: f'{x:.2%}' if isinstance(x, float) else x))"
   ]
  },
  {
   "cell_type": "code",
   "execution_count": 52,
   "id": "8ae4691e",
   "metadata": {},
   "outputs": [
    {
     "data": {
      "image/png": "[encoded data removed]",
      "text/plain": [
       "<Figure size 1000x800 with 2 Axes>"
      ]
     },
     "metadata": {},
     "output_type": "display_data"
    }
   ],
   "source": [
    "plt.figure(figsize=(10, 8))\n",
    "sns.heatmap(\n",
    "    win_rate_matrix, \n",
    "    annot=True, \n",
    "    fmt=\".1%\", \n",
    "    cmap=\"coolwarm\", \n",
    "    linewidths=.5,\n",
    "    vmin=0, \n",
    "    vmax=1\n",
    ")\n",
    "plt.title('Heatmap de Taxa de Vitória (Confronto Direto entre Modelos)', fontsize=16)\n",
    "plt.xlabel('Oponente')\n",
    "plt.ylabel('Modelo')\n",
    "plt.show()"
   ]
  },
  {
   "cell_type": "markdown",
   "id": "b3da92a8",
   "metadata": {},
   "source": []
  }
 ],
 "metadata": {
  "kernelspec": {
   "display_name": "ia-py10",
   "language": "python",
   "name": "python3"
  },
  "language_info": {
   "codemirror_mode": {
    "name": "ipython",
    "version": 3
   },
   "file_extension": ".py",
   "mimetype": "text/x-python",
   "name": "python",
   "nbconvert_exporter": "python",
   "pygments_lexer": "ipython3",
   "version": "3.10.18"
  }
 },
 "nbformat": 4,
 "nbformat_minor": 5
}
