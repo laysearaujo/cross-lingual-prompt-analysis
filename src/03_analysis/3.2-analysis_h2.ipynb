{
 "cells": [
  {
   "cell_type": "markdown",
   "id": "5d3d4648",
   "metadata": {},
   "source": [
    "# **Hipótese H₂:** O ganho de desempenho obtido com prompts específicos difere entre português e inglês."
   ]
  },
  {
   "cell_type": "code",
   "execution_count": 1,
   "id": "0ae3fb1b",
   "metadata": {},
   "outputs": [],
   "source": [
    "import pandas as pd\n",
    "import numpy as np\n",
    "import matplotlib.pyplot as plt\n",
    "import seaborn as sns\n",
    "from scipy import stats\n",
    "from scipy.stats import chi2_contingency, fisher_exact, binomtest\n",
    "import json"
   ]
  },
  {
   "cell_type": "code",
   "execution_count": 2,
   "id": "d7b9cf21",
   "metadata": {},
   "outputs": [],
   "source": [
    "plt.style.use('seaborn-v0_8-darkgrid')\n",
    "sns.set_palette(\"husl\")"
   ]
  },
  {
   "cell_type": "code",
   "execution_count": 3,
   "id": "c4b669b9",
   "metadata": {},
   "outputs": [
    {
     "name": "stdout",
     "output_type": "stream",
     "text": [
      "(500, 21)\n"
     ]
    },
    {
     "data": {
      "text/html": [
       "<div>\n",
       "<style scoped>\n",
       "    .dataframe tbody tr th:only-of-type {\n",
       "        vertical-align: middle;\n",
       "    }\n",
       "\n",
       "    .dataframe tbody tr th {\n",
       "        vertical-align: top;\n",
       "    }\n",
       "\n",
       "    .dataframe thead th {\n",
       "        text-align: right;\n",
       "    }\n",
       "</style>\n",
       "<table border=\"1\" class=\"dataframe\">\n",
       "  <thead>\n",
       "    <tr style=\"text-align: right;\">\n",
       "      <th></th>\n",
       "      <th>evaluation_id</th>\n",
       "      <th>response_A</th>\n",
       "      <th>response_B</th>\n",
       "      <th>evaluation_claude</th>\n",
       "      <th>evaluation_prometheus</th>\n",
       "      <th>evaluation_mistral</th>\n",
       "      <th>claude_winner</th>\n",
       "      <th>claude_total_score</th>\n",
       "      <th>mistral_winner</th>\n",
       "      <th>mistral_total_score</th>\n",
       "      <th>...</th>\n",
       "      <th>prometheus_total_score</th>\n",
       "      <th>gold_winner</th>\n",
       "      <th>human_winner</th>\n",
       "      <th>domain</th>\n",
       "      <th>language_context</th>\n",
       "      <th>sample_n</th>\n",
       "      <th>source_of_A</th>\n",
       "      <th>source_of_B</th>\n",
       "      <th>winner_type</th>\n",
       "      <th>winner_language</th>\n",
       "    </tr>\n",
       "  </thead>\n",
       "  <tbody>\n",
       "    <tr>\n",
       "      <th>0</th>\n",
       "      <td>TC014_gemini-1.5-pro-latest_1_Technical_contex...</td>\n",
       "      <td>The primary use of a NumPy array is to efficie...</td>\n",
       "      <td>Numple matrices are the central data structure...</td>\n",
       "      <td>{\\n    \"winner\": \"A\",\\n    \"general_justificat...</td>\n",
       "      <td>{\\n        \"winner\": \"A\",\\n        \"general_ju...</td>\n",
       "      <td>{\\n        \"winner\": \"A\",\\n        \"general_j...</td>\n",
       "      <td>A</td>\n",
       "      <td>5.0</td>\n",
       "      <td>A</td>\n",
       "      <td>5.00</td>\n",
       "      <td>...</td>\n",
       "      <td>5.00</td>\n",
       "      <td>A</td>\n",
       "      <td>A</td>\n",
       "      <td>Technical</td>\n",
       "      <td>EN vs PT</td>\n",
       "      <td>1</td>\n",
       "      <td>english_original</td>\n",
       "      <td>portuguese_pivoted</td>\n",
       "      <td>Native</td>\n",
       "      <td>EN</td>\n",
       "    </tr>\n",
       "    <tr>\n",
       "      <th>1</th>\n",
       "      <td>CG004_gemini-1.5-pro-latest_4_General Knowledg...</td>\n",
       "      <td>The Proclamation of the Republic in Brazil on ...</td>\n",
       "      <td>The proclamation of the Republic in Brazil, on...</td>\n",
       "      <td>{\\n    \"winner\": \"A\",\\n    \"general_justificat...</td>\n",
       "      <td>{\\n\"winner\": \"Tie\",\\n\"general_justification\": ...</td>\n",
       "      <td>{\\n  \"winner\": \"A\",\\n  \"general_justification...</td>\n",
       "      <td>A</td>\n",
       "      <td>5.0</td>\n",
       "      <td>A</td>\n",
       "      <td>4.75</td>\n",
       "      <td>...</td>\n",
       "      <td>4.75</td>\n",
       "      <td>A</td>\n",
       "      <td>B</td>\n",
       "      <td>General Knowledge</td>\n",
       "      <td>EN vs PT</td>\n",
       "      <td>4</td>\n",
       "      <td>english_original</td>\n",
       "      <td>portuguese_pivoted</td>\n",
       "      <td>Native</td>\n",
       "      <td>EN</td>\n",
       "    </tr>\n",
       "  </tbody>\n",
       "</table>\n",
       "<p>2 rows × 21 columns</p>\n",
       "</div>"
      ],
      "text/plain": [
       "                                       evaluation_id  \\\n",
       "0  TC014_gemini-1.5-pro-latest_1_Technical_contex...   \n",
       "1  CG004_gemini-1.5-pro-latest_4_General Knowledg...   \n",
       "\n",
       "                                          response_A  \\\n",
       "0  The primary use of a NumPy array is to efficie...   \n",
       "1  The Proclamation of the Republic in Brazil on ...   \n",
       "\n",
       "                                          response_B  \\\n",
       "0  Numple matrices are the central data structure...   \n",
       "1  The proclamation of the Republic in Brazil, on...   \n",
       "\n",
       "                                   evaluation_claude  \\\n",
       "0  {\\n    \"winner\": \"A\",\\n    \"general_justificat...   \n",
       "1  {\\n    \"winner\": \"A\",\\n    \"general_justificat...   \n",
       "\n",
       "                               evaluation_prometheus  \\\n",
       "0  {\\n        \"winner\": \"A\",\\n        \"general_ju...   \n",
       "1  {\\n\"winner\": \"Tie\",\\n\"general_justification\": ...   \n",
       "\n",
       "                                  evaluation_mistral claude_winner  \\\n",
       "0   {\\n        \"winner\": \"A\",\\n        \"general_j...             A   \n",
       "1   {\\n  \"winner\": \"A\",\\n  \"general_justification...             A   \n",
       "\n",
       "   claude_total_score mistral_winner  mistral_total_score  ...  \\\n",
       "0                 5.0              A                 5.00  ...   \n",
       "1                 5.0              A                 4.75  ...   \n",
       "\n",
       "  prometheus_total_score  gold_winner human_winner             domain  \\\n",
       "0                   5.00            A            A          Technical   \n",
       "1                   4.75            A            B  General Knowledge   \n",
       "\n",
       "  language_context sample_n       source_of_A         source_of_B winner_type  \\\n",
       "0         EN vs PT        1  english_original  portuguese_pivoted      Native   \n",
       "1         EN vs PT        4  english_original  portuguese_pivoted      Native   \n",
       "\n",
       "  winner_language  \n",
       "0              EN  \n",
       "1              EN  \n",
       "\n",
       "[2 rows x 21 columns]"
      ]
     },
     "execution_count": 3,
     "metadata": {},
     "output_type": "execute_result"
    }
   ],
   "source": [
    "df_pivot_en = pd.read_csv('../../data/analysis/pivot_en_recoded.csv')\n",
    "print(df_pivot_en.shape)\n",
    "df_pivot_en.head(2)"
   ]
  },
  {
   "cell_type": "code",
   "execution_count": 4,
   "id": "bba184cb",
   "metadata": {},
   "outputs": [
    {
     "name": "stdout",
     "output_type": "stream",
     "text": [
      "(500, 18)\n"
     ]
    },
    {
     "data": {
      "text/html": [
       "<div>\n",
       "<style scoped>\n",
       "    .dataframe tbody tr th:only-of-type {\n",
       "        vertical-align: middle;\n",
       "    }\n",
       "\n",
       "    .dataframe tbody tr th {\n",
       "        vertical-align: top;\n",
       "    }\n",
       "\n",
       "    .dataframe thead th {\n",
       "        text-align: right;\n",
       "    }\n",
       "</style>\n",
       "<table border=\"1\" class=\"dataframe\">\n",
       "  <thead>\n",
       "    <tr style=\"text-align: right;\">\n",
       "      <th></th>\n",
       "      <th>evaluation_id</th>\n",
       "      <th>response_A</th>\n",
       "      <th>response_B</th>\n",
       "      <th>evaluation_claude</th>\n",
       "      <th>evaluation_prometheus</th>\n",
       "      <th>evaluation_mistral</th>\n",
       "      <th>claude_winner</th>\n",
       "      <th>claude_total_score</th>\n",
       "      <th>mistral_winner</th>\n",
       "      <th>mistral_total_score</th>\n",
       "      <th>prometheus_winner</th>\n",
       "      <th>prometheus_total_score</th>\n",
       "      <th>gold_winner</th>\n",
       "      <th>source_of_A</th>\n",
       "      <th>source_of_B</th>\n",
       "      <th>winner_type</th>\n",
       "      <th>winner_language</th>\n",
       "      <th>domain</th>\n",
       "    </tr>\n",
       "  </thead>\n",
       "  <tbody>\n",
       "    <tr>\n",
       "      <th>0</th>\n",
       "      <td>CG011_llama-3.3-70b-versatile_2_General Knowle...</td>\n",
       "      <td>**O que é DNA?**\\n\\nO DNA (ácido desoxirribonu...</td>\n",
       "      <td>**O que é DNA?**\\n\\nO DNA (ácido desoxirribonu...</td>\n",
       "      <td>{\\n    \"winner\": \"A\",\\n    \"general_justificat...</td>\n",
       "      <td>{\\n\"winner\": \"T\",\\n\"general_justification\": \"T...</td>\n",
       "      <td>{\\n        \"winner\": \"A\",\\n        \"general_j...</td>\n",
       "      <td>A</td>\n",
       "      <td>4.50</td>\n",
       "      <td>A</td>\n",
       "      <td>4.75</td>\n",
       "      <td>Tie</td>\n",
       "      <td>5.00</td>\n",
       "      <td>A</td>\n",
       "      <td>english_pivoted_to_pt</td>\n",
       "      <td>portuguese_original</td>\n",
       "      <td>Translated</td>\n",
       "      <td>EN</td>\n",
       "      <td>General Knowledge</td>\n",
       "    </tr>\n",
       "    <tr>\n",
       "      <th>1</th>\n",
       "      <td>TC018_llama-3.3-70b-versatile_3_Technical_mini...</td>\n",
       "      <td>**Notação Big O: uma medida de complexidade**\\...</td>\n",
       "      <td>A notação Big O é uma medida de complexidade d...</td>\n",
       "      <td>{\\n    \"winner\": \"B\",\\n    \"general_justificat...</td>\n",
       "      <td>{\\n\"winner\": \"Tie\",\\n\"general_justification\": ...</td>\n",
       "      <td>{\\n        \"winner\": \"A\",\\n        \"general_j...</td>\n",
       "      <td>B</td>\n",
       "      <td>4.75</td>\n",
       "      <td>A</td>\n",
       "      <td>5.00</td>\n",
       "      <td>Tie</td>\n",
       "      <td>4.75</td>\n",
       "      <td>Tie</td>\n",
       "      <td>english_pivoted_to_pt</td>\n",
       "      <td>portuguese_original</td>\n",
       "      <td>Tie</td>\n",
       "      <td>NaN</td>\n",
       "      <td>Technical</td>\n",
       "    </tr>\n",
       "  </tbody>\n",
       "</table>\n",
       "</div>"
      ],
      "text/plain": [
       "                                       evaluation_id  \\\n",
       "0  CG011_llama-3.3-70b-versatile_2_General Knowle...   \n",
       "1  TC018_llama-3.3-70b-versatile_3_Technical_mini...   \n",
       "\n",
       "                                          response_A  \\\n",
       "0  **O que é DNA?**\\n\\nO DNA (ácido desoxirribonu...   \n",
       "1  **Notação Big O: uma medida de complexidade**\\...   \n",
       "\n",
       "                                          response_B  \\\n",
       "0  **O que é DNA?**\\n\\nO DNA (ácido desoxirribonu...   \n",
       "1  A notação Big O é uma medida de complexidade d...   \n",
       "\n",
       "                                   evaluation_claude  \\\n",
       "0  {\\n    \"winner\": \"A\",\\n    \"general_justificat...   \n",
       "1  {\\n    \"winner\": \"B\",\\n    \"general_justificat...   \n",
       "\n",
       "                               evaluation_prometheus  \\\n",
       "0  {\\n\"winner\": \"T\",\\n\"general_justification\": \"T...   \n",
       "1  {\\n\"winner\": \"Tie\",\\n\"general_justification\": ...   \n",
       "\n",
       "                                  evaluation_mistral claude_winner  \\\n",
       "0   {\\n        \"winner\": \"A\",\\n        \"general_j...             A   \n",
       "1   {\\n        \"winner\": \"A\",\\n        \"general_j...             B   \n",
       "\n",
       "   claude_total_score mistral_winner  mistral_total_score prometheus_winner  \\\n",
       "0                4.50              A                 4.75               Tie   \n",
       "1                4.75              A                 5.00               Tie   \n",
       "\n",
       "   prometheus_total_score gold_winner            source_of_A  \\\n",
       "0                    5.00           A  english_pivoted_to_pt   \n",
       "1                    4.75         Tie  english_pivoted_to_pt   \n",
       "\n",
       "           source_of_B winner_type winner_language             domain  \n",
       "0  portuguese_original  Translated              EN  General Knowledge  \n",
       "1  portuguese_original         Tie             NaN          Technical  "
      ]
     },
     "execution_count": 4,
     "metadata": {},
     "output_type": "execute_result"
    }
   ],
   "source": [
    "df_pivot_pt = pd.read_csv('../../data/analysis/pivot_pt_recoded.csv')\n",
    "print(df_pivot_pt.shape)\n",
    "df_pivot_pt.head(2)"
   ]
  },
  {
   "cell_type": "code",
   "execution_count": 5,
   "id": "461bf2c6",
   "metadata": {},
   "outputs": [
    {
     "name": "stdout",
     "output_type": "stream",
     "text": [
      "--- Distribuição de Resultados ---\n",
      "\n",
      "\n",
      "Pivô-EN:\n",
      "winner_type\n",
      "Native        287\n",
      "Tie           170\n",
      "Translated     43\n",
      "Name: count, dtype: int64\n",
      "\n",
      "Pivô-PT:\n",
      "winner_type\n",
      "Tie           198\n",
      "Native        171\n",
      "Translated    131\n",
      "Name: count, dtype: int64\n"
     ]
    }
   ],
   "source": [
    "print(\"--- Distribuição de Resultados ---\\n\")\n",
    "print(\"\\nPivô-EN:\")\n",
    "print(df_pivot_en['winner_type'].value_counts())\n",
    "print(\"\\nPivô-PT:\")\n",
    "print(df_pivot_pt['winner_type'].value_counts())"
   ]
  },
  {
   "cell_type": "markdown",
   "id": "dd97c9ac",
   "metadata": {},
   "source": [
    "A resposta nativa em Inglês (EN) venceu de forma esmagadora (287 vs 43). A resposta nativa em Português (PT) também venceu, mas por uma margem muito, muito menor (171 vs 131)."
   ]
  },
  {
   "cell_type": "code",
   "execution_count": 6,
   "id": "e84fa2ce",
   "metadata": {},
   "outputs": [],
   "source": [
    "def proporcao_com_ic(n_sucessos, n_total, nivel_confianca=0.95):\n",
    "    \"\"\"Intervalo de confiança pelo método de Wilson\"\"\"\n",
    "    if n_total == 0:\n",
    "        return 0, 0, 0\n",
    "    z = stats.norm.ppf((1 + nivel_confianca) / 2)\n",
    "    p = n_sucessos / n_total\n",
    "    denominador = 1 + z**2/n_total\n",
    "    centro = (p + z**2/(2*n_total)) / denominador\n",
    "    margem = z * np.sqrt((p*(1-p)/n_total + z**2/(4*n_total**2))) / denominador\n",
    "    return p, max(0, centro - margem), min(1, centro + margem)"
   ]
  },
  {
   "cell_type": "code",
   "execution_count": 7,
   "id": "7b9f87de",
   "metadata": {},
   "outputs": [],
   "source": [
    "def formatar_ic(prop, ic_inf, ic_sup):\n",
    "    return f\"{prop:.1%} (95% CI: [{ic_inf:.1%}, {ic_sup:.1%}])\"\n"
   ]
  },
  {
   "cell_type": "code",
   "execution_count": 8,
   "id": "0fed74d4",
   "metadata": {},
   "outputs": [],
   "source": [
    "def calcular_win_rate_com_empates(df, tratamento='half_point'):\n",
    "    \"\"\"\n",
    "    Calcula win rate de respostas Native com 3 tratamentos de empate:\n",
    "    \n",
    "    1. conservative: Tie = 0 para ambos\n",
    "    2. half_point: Tie = 0.5 para cada lado (PRINCIPAL)\n",
    "    3. decided_only: Remove Ties da análise\n",
    "    \"\"\"\n",
    "    n_total = len(df)\n",
    "    n_native = (df['winner_type'] == 'Native').sum()\n",
    "    n_tie = (df['winner_type'] == 'Tie').sum()\n",
    "    \n",
    "    if tratamento == 'conservative':\n",
    "        win_rate = n_native / n_total\n",
    "        n_effective = n_total\n",
    "    elif tratamento == 'half_point':\n",
    "        win_rate = (n_native + 0.5 * n_tie) / n_total\n",
    "        n_effective = n_total\n",
    "    elif tratamento == 'decided_only':\n",
    "        n_decididos = n_total - n_tie\n",
    "        if n_decididos == 0:\n",
    "            return 0, 0, 0, 0\n",
    "        win_rate = n_native / n_decididos\n",
    "        n_effective = n_decididos\n",
    "    \n",
    "    # IC usando Wilson\n",
    "    prop, ic_inf, ic_sup = proporcao_com_ic(int(win_rate * n_effective), n_effective)\n",
    "    \n",
    "    return win_rate, ic_inf, ic_sup, n_effective"
   ]
  },
  {
   "cell_type": "code",
   "execution_count": 9,
   "id": "cb0477c2",
   "metadata": {},
   "outputs": [],
   "source": [
    "tratamentos = {\n",
    "    'conservative': 'Conservative (Tie=0)',\n",
    "    'half_point': 'Half-point (Tie=0.5)',\n",
    "    'decided_only': 'Decided only (remove Ties)'\n",
    "}"
   ]
  },
  {
   "cell_type": "code",
   "execution_count": 10,
   "id": "7475c358",
   "metadata": {},
   "outputs": [
    {
     "name": "stdout",
     "output_type": "stream",
     "text": [
      "--- Native Response Win Rates ---\n",
      "\n",
      "\n",
      "Pivô-EN (evaluated in English)\n",
      "------------------------------------------------------------\n",
      "Conservative (Tie=0)                    : 57.4% (95% CI: [53.0%, 61.7%])\n",
      "                                          N=500\n",
      "Half-point (Tie=0.5)                    : 74.4% (95% CI: [70.4%, 78.0%])\n",
      "                                          N=500\n",
      "Decided only (remove Ties)              : 87.0% (95% CI: [82.9%, 90.2%])\n",
      "                                          N=330\n",
      "\n",
      "\n",
      "Pivô-PT (evaluated in Portuguese)\n",
      "------------------------------------------------------------\n",
      "Conservative (Tie=0)                    : 34.2% (95% CI: [30.2%, 38.5%])\n",
      "                                          N=500\n",
      "Half-point (Tie=0.5)                    : 54.0% (95% CI: [49.6%, 58.3%])\n",
      "                                          N=500\n",
      "Decided only (remove Ties)              : 56.6% (95% CI: [51.0%, 62.1%])\n",
      "                                          N=302\n",
      "\n"
     ]
    }
   ],
   "source": [
    "print(\"--- Native Response Win Rates ---\\n\")\n",
    "\n",
    "all_results = []\n",
    "\n",
    "for pivot_df, pivot_name, pivot_code in [\n",
    "    (df_pivot_en, 'Pivô-EN (evaluated in English)', 'EN'),\n",
    "    (df_pivot_pt, 'Pivô-PT (evaluated in Portuguese)', 'PT')\n",
    "]:\n",
    "    print(f\"\\n{pivot_name}\")\n",
    "    print(\"-\" * 60)\n",
    "    \n",
    "    for trat_code, trat_label in tratamentos.items():\n",
    "        wr, ic_inf, ic_sup, n_eff = calcular_win_rate_com_empates(\n",
    "            pivot_df, tratamento=trat_code\n",
    "        )\n",
    "        \n",
    "        print(f\"{trat_label:40s}: {formatar_ic(wr, ic_inf, ic_sup)}\")\n",
    "        print(f\"{'':40s}  N={n_eff}\")\n",
    "        \n",
    "        all_results.append({\n",
    "            'Pivot': pivot_code,\n",
    "            'Pivot_Name': pivot_name,\n",
    "            'Treatment': trat_code,\n",
    "            'Treatment_Label': trat_label,\n",
    "            'Win_Rate': wr,\n",
    "            'IC_Inf': ic_inf,\n",
    "            'IC_Sup': ic_sup,\n",
    "            'N': n_eff\n",
    "        })\n",
    "    print()\n",
    "\n",
    "df_results = pd.DataFrame(all_results)"
   ]
  },
  {
   "cell_type": "markdown",
   "id": "2297f3d1",
   "metadata": {},
   "source": [
    "* EN: Não importa como tratamos os empates, a resposta nativa em Inglês sempre vence e com força. A conclusão é robusta.\n",
    "\n",
    "* PT: A conclusão depende totalmente de como tratamos os empates. Se for conservador, a resposta nativa em PT perde (34.2%). Se for mais liberal (dividindo os empates ou ignorando-os), ela ganha (54-56%). Isto mostra que a vantagem do PT é não robusta e altamente sensível à alta taxa de empates."
   ]
  },
  {
   "cell_type": "code",
   "execution_count": 11,
   "id": "e9ea50a9",
   "metadata": {},
   "outputs": [
    {
     "data": {
      "image/png": "[encoded data removed]",
      "text/plain": [
       "<Figure size 1200x700 with 1 Axes>"
      ]
     },
     "metadata": {},
     "output_type": "display_data"
    }
   ],
   "source": [
    "fig, ax = plt.subplots(figsize=(12, 7))\n",
    "\n",
    "# Usar apenas half_point para simplicidade visual\n",
    "df_plot = df_results[df_results['Treatment'] == 'half_point']\n",
    "\n",
    "x = np.arange(len(df_plot))\n",
    "colors = ['#3498db', '#e67e22']\n",
    "\n",
    "bars = ax.bar(\n",
    "    x,\n",
    "    df_plot['Win_Rate'],\n",
    "    yerr=[\n",
    "        df_plot['Win_Rate'] - df_plot['IC_Inf'],\n",
    "        df_plot['IC_Sup'] - df_plot['Win_Rate']\n",
    "    ],\n",
    "    capsize=5,\n",
    "    color=colors,\n",
    "    alpha=0.8,\n",
    "    edgecolor='black',\n",
    "    linewidth=1.5\n",
    ")\n",
    "\n",
    "ax.set_ylabel('Native Response Win Rate', fontsize=13, weight='bold')\n",
    "ax.set_title('Native Response Win Rate by Pivot\\n(Half-point Treatment: Tie = 0.5)', \n",
    "             fontsize=15, weight='bold')\n",
    "ax.set_xticks(x)\n",
    "ax.set_xticklabels([\n",
    "    'Pivô-EN\\n(eval in English)',\n",
    "    'Pivô-PT\\n(eval in Portuguese)'\n",
    "])\n",
    "ax.set_ylim(0, 1)\n",
    "ax.yaxis.set_major_formatter(plt.FuncFormatter(lambda y, _: f'{y:.0%}'))\n",
    "ax.axhline(0.5, color='red', linestyle='--', alpha=0.7, linewidth=2, label='Parity (50%)')\n",
    "ax.legend(fontsize=11)\n",
    "ax.grid(axis='y', alpha=0.3)\n",
    "\n",
    "# Adicionar valores nas barras\n",
    "for bar, row in zip(bars, df_plot.itertuples()):\n",
    "    height = bar.get_height()\n",
    "    ax.text(\n",
    "        bar.get_x() + bar.get_width()/2.,\n",
    "        height + 0.02,\n",
    "        f'{row.Win_Rate:.1%}',\n",
    "        ha='center',\n",
    "        va='bottom',\n",
    "        fontsize=14,\n",
    "        weight='bold'\n",
    "    )\n",
    "\n",
    "plt.tight_layout()\n",
    "plt.show()"
   ]
  },
  {
   "cell_type": "markdown",
   "id": "da27a0a3",
   "metadata": {},
   "source": [
    "## TESTE DE HIPÓTESE: NATIVA vs TRADUZIDA"
   ]
  },
  {
   "cell_type": "markdown",
   "id": "af0569a0",
   "metadata": {},
   "source": [
    "H₀: Taxa de vitória da nativa = 0.5 (sem vantagem)"
   ]
  },
  {
   "cell_type": "code",
   "execution_count": 12,
   "id": "7d416ad9",
   "metadata": {},
   "outputs": [
    {
     "name": "stdout",
     "output_type": "stream",
     "text": [
      "\n",
      "Pivô-EN:\n",
      "--------------------------------------------------\n",
      "Taxa de vitória (nativa): 74.4% (95% CI: [70.4%, 78.0%])\n",
      "N = 500\n",
      "\n",
      "Teste Z:\n",
      "  z = 10.912\n",
      "  p-valor = 0\n",
      "    Significância: *** (Altamente significativo)\n",
      "    A resposta nativa apresenta vantagem (tamanho do efeito: 24.4%)\n",
      "    Cohen's h = 0.510 (efeito grande)\n",
      "\n",
      "Pivô-PT:\n",
      "--------------------------------------------------\n",
      "Taxa de vitória (nativa): 54.0% (95% CI: [49.6%, 58.3%])\n",
      "N = 500\n",
      "\n",
      "Teste Z:\n",
      "  z = 1.789\n",
      "  p-valor = 0.07364\n",
      "    Significância: ns (Não significativo)\n",
      "    Nenhuma diferença significativa em relação à paridade\n"
     ]
    }
   ],
   "source": [
    "# Teste para cada pivô (usando half_point)\n",
    "test_results = []\n",
    "\n",
    "for pivot_df, pivot_name, pivot_code in [\n",
    "    (df_pivot_en, 'Pivô-EN', 'EN'),\n",
    "    (df_pivot_pt, 'Pivô-PT', 'PT')\n",
    "]:\n",
    "    print(f\"\\n{pivot_name}:\")\n",
    "    print(\"-\" * 50)\n",
    "    \n",
    "    # Calcular taxa de vitória (half_point)\n",
    "    wr, ic_inf, ic_sup, n = calcular_win_rate_com_empates(pivot_df, 'half_point')\n",
    "    \n",
    "    print(f\"Taxa de vitória (nativa): {formatar_ic(wr, ic_inf, ic_sup)}\")\n",
    "    print(f\"N = {n}\")\n",
    "    \n",
    "    # Teste Z para proporção\n",
    "    p0 = 0.5\n",
    "    se = np.sqrt(p0 * (1 - p0) / n)\n",
    "    z_stat = (wr - p0) / se\n",
    "    p_value = 2 * (1 - stats.norm.cdf(abs(z_stat)))\n",
    "    \n",
    "    print(f\"\\nTeste Z:\")\n",
    "    print(f\"  z = {z_stat:.3f}\")\n",
    "    print(f\"  p-valor = {p_value:.4g}\")\n",
    "    \n",
    "    # Interpretação\n",
    "    if p_value < 0.001:\n",
    "        sig = \"***\"\n",
    "        conclusion = \"Altamente significativo\"\n",
    "    elif p_value < 0.01:\n",
    "        sig = \"**\"\n",
    "        conclusion = \"Muito significativo\"\n",
    "    elif p_value < 0.05:\n",
    "        sig = \"*\"\n",
    "        conclusion = \"Significativo\"\n",
    "    else:\n",
    "        sig = \"ns\"\n",
    "        conclusion = \"Não significativo\"\n",
    "    \n",
    "    print(f\"    Significância: {sig} ({conclusion})\")\n",
    "    \n",
    "    if p_value < 0.05:\n",
    "        direction = \"vantagem\" if wr > 0.5 else \"desvantagem\"\n",
    "        effect_size = abs(wr - 0.5)\n",
    "        print(f\"    A resposta nativa apresenta {direction} (tamanho do efeito: {effect_size:.1%})\")\n",
    "        \n",
    "        # Cohen's h\n",
    "        cohens_h = 2 * np.arcsin(np.sqrt(wr)) - 2 * np.arcsin(np.sqrt(0.5))\n",
    "        print(f\"    Cohen's h = {cohens_h:.3f}\", end=\"\")\n",
    "        if abs(cohens_h) < 0.2:\n",
    "            print(\" (efeito pequeno)\")\n",
    "        elif abs(cohens_h) < 0.5:\n",
    "            print(\" (efeito médio)\")\n",
    "        else:\n",
    "            print(\" (efeito grande)\")\n",
    "    else:\n",
    "        print(f\"    Nenhuma diferença significativa em relação à paridade\")\n",
    "    \n",
    "    test_results.append({\n",
    "        'Pivô': pivot_code,\n",
    "        'Taxa_Vitória': wr,\n",
    "        'Z': z_stat,\n",
    "        'P_Valor': p_value,\n",
    "        'Significativo': p_value < 0.05\n",
    "    })\n"
   ]
  },
  {
   "cell_type": "markdown",
   "id": "755a86d9",
   "metadata": {},
   "source": [
    "* EN: A vantagem de 74.4% do Inglês é altamente significativa.\n",
    "\n",
    "* PT: A vantagem de 54.0% do Português não é estatisticamente significativa. Não podemos afirmar com 95% de confiança que a resposta nativa em PT é melhor; ela está estatisticamente empatada com a resposta traduzida."
   ]
  },
  {
   "cell_type": "markdown",
   "id": "43d913d9",
   "metadata": {},
   "source": [
    "## COMPARAÇÃO ENTRE PIVÔS"
   ]
  },
  {
   "cell_type": "code",
   "execution_count": 13,
   "id": "24affae3",
   "metadata": {},
   "outputs": [],
   "source": [
    "# Win rates dos dois pivôs\n",
    "wr_en = df_results[(df_results['Pivot'] == 'EN') & \n",
    "                   (df_results['Treatment'] == 'half_point')]['Win_Rate'].values[0]\n",
    "wr_pt = df_results[(df_results['Pivot'] == 'PT') & \n",
    "                   (df_results['Treatment'] == 'half_point')]['Win_Rate'].values[0]"
   ]
  },
  {
   "cell_type": "code",
   "execution_count": 14,
   "id": "53c6a2c4",
   "metadata": {},
   "outputs": [
    {
     "name": "stdout",
     "output_type": "stream",
     "text": [
      "Taxa de vitória (nativa) no Pivô-EN: 74.4%\n",
      "Taxa de vitória (nativa) no Pivô-PT: 54.0%\n",
      "\n",
      "Assimetria: 20.4%\n",
      "\n",
      "ALTA ASSIMETRIA (>15pp)\n",
      " Resultados diferentes dependendo do idioma da avaliação\n",
      " Sugere viés de avaliação ou efeitos específicos do idioma\n"
     ]
    }
   ],
   "source": [
    "asymmetry = abs(wr_en - wr_pt)\n",
    "\n",
    "print(f\"Taxa de vitória (nativa) no Pivô-EN: {wr_en:.1%}\")\n",
    "print(f\"Taxa de vitória (nativa) no Pivô-PT: {wr_pt:.1%}\")\n",
    "print(f\"\\nAssimetria: {asymmetry:.1%}\")\n",
    "print()\n",
    "\n",
    "# Interpretação da assimetria\n",
    "if asymmetry > 0.15:\n",
    "    print(\"ALTA ASSIMETRIA (>15pp)\")\n",
    "    print(\" Resultados diferentes dependendo do idioma da avaliação\")\n",
    "    print(\" Sugere viés de avaliação ou efeitos específicos do idioma\")\n",
    "elif asymmetry > 0.10:\n",
    "    print(\"ASSIMETRIA MODERADA (>10pp)\")\n",
    "    print(\" Alguma diferença entre os pivôs\")\n",
    "elif asymmetry > 0.05:\n",
    "    print(\"BAIXA ASSIMETRIA (5–10pp)\")\n",
    "    print(\" Diferenças pequenas, efeito relativamente robusto\")\n",
    "else:\n",
    "    print(\"ASSIMETRIA MÍNIMA (<5pp)\")\n",
    "    print(\" Efeito altamente robusto entre idiomas de avaliação\")"
   ]
  },
  {
   "cell_type": "code",
   "execution_count": 15,
   "id": "54c2038d",
   "metadata": {},
   "outputs": [
    {
     "name": "stdout",
     "output_type": "stream",
     "text": [
      "Z = 6.728\n",
      "p-valor = 1.719e-11\n",
      "\n",
      "As taxas de vitória diferem significativamente entre os pivôs\n",
      "O idioma da avaliação influencia o resultado\n"
     ]
    }
   ],
   "source": [
    "# Teste de diferença entre dois pivôs (teste Z para diferença de proporções)\n",
    "n_en = len(df_pivot_en)\n",
    "n_pt = len(df_pivot_pt)\n",
    "\n",
    "# Proporção combinada (sob H₀)\n",
    "n_native_en = (df_pivot_en['winner_type'] == 'Native').sum()\n",
    "n_tie_en = (df_pivot_en['winner_type'] == 'Tie').sum()\n",
    "n_native_pt = (df_pivot_pt['winner_type'] == 'Native').sum()\n",
    "n_tie_pt = (df_pivot_pt['winner_type'] == 'Tie').sum()\n",
    "\n",
    "# Ajuste para empates (half_point)\n",
    "effective_native_en = n_native_en + 0.5 * n_tie_en\n",
    "effective_native_pt = n_native_pt + 0.5 * n_tie_pt\n",
    "\n",
    "p_pooled = (effective_native_en + effective_native_pt) / (n_en + n_pt)\n",
    "se_diff = np.sqrt(p_pooled * (1 - p_pooled) * (1/n_en + 1/n_pt))\n",
    "\n",
    "z_diff = (wr_en - wr_pt) / se_diff\n",
    "p_value_diff = 2 * (1 - stats.norm.cdf(abs(z_diff)))\n",
    "\n",
    "print(f\"Z = {z_diff:.3f}\")\n",
    "print(f\"p-valor = {p_value_diff:.4g}\")\n",
    "\n",
    "if p_value_diff < 0.05:\n",
    "    print(\"\\nAs taxas de vitória diferem significativamente entre os pivôs\")\n",
    "    print(\"O idioma da avaliação influencia o resultado\")\n",
    "else:\n",
    "    print(\"\\nAs taxas de vitória são semelhantes entre os pivôs\")\n",
    "    print(\"O efeito é robusto ao idioma de avaliação\")"
   ]
  },
  {
   "cell_type": "markdown",
   "id": "817f74ff",
   "metadata": {},
   "source": [
    "Não só as taxas de vitória são diferentes, como a diferença em si é significativa entre a comparação entre português e inglês. Isto prova que o idioma da avaliação influencia o resultado."
   ]
  },
  {
   "cell_type": "markdown",
   "id": "d43ae19c",
   "metadata": {},
   "source": [
    "## MODELAGEM BRADLEY-TERRY"
   ]
  },
  {
   "cell_type": "markdown",
   "id": "d2197c15",
   "metadata": {},
   "source": [
    "O modelo Bradley-Terry estima os parâmetros de \"força\":\n",
    "- Maior força → maior probabilidade de vitória em comparações pareadas\n",
    "- A razão logarítmica de chances quantifica a vantagem relativa"
   ]
  },
  {
   "cell_type": "code",
   "execution_count": 16,
   "id": "3d1b71f6",
   "metadata": {},
   "outputs": [],
   "source": [
    "def estimate_bt_strength_with_ties(wins_native, wins_translated, ties):\n",
    "    \"\"\"\n",
    "    Estimativa de força Bradley-Terry com empates\n",
    "    Usa half-point: ties contam como 0.5 para cada lado\n",
    "    \"\"\"\n",
    "    effective_native = wins_native + 0.5 * ties\n",
    "    effective_translated = wins_translated + 0.5 * ties\n",
    "    total = effective_native + effective_translated\n",
    "    \n",
    "    # Forças normalizadas\n",
    "    strength_native = effective_native / total\n",
    "    strength_translated = effective_translated / total\n",
    "    \n",
    "    # Log-odds ratio\n",
    "    if strength_translated > 0:\n",
    "        log_odds = np.log(strength_native / strength_translated)\n",
    "    else:\n",
    "        log_odds = np.inf\n",
    "    \n",
    "    return strength_native, strength_translated, log_odds"
   ]
  },
  {
   "cell_type": "code",
   "execution_count": 17,
   "id": "3724fe2f",
   "metadata": {},
   "outputs": [
    {
     "name": "stdout",
     "output_type": "stream",
     "text": [
      "Pivô-EN (EN nativo vs PT traduzido):\n",
      "  Força (nativo): 0.744\n",
      "  Força (traduzido): 0.256\n",
      "  Log-odds ratio: +1.067\n",
      "  → A resposta nativa é 2.91× mais forte\n",
      "\n",
      "Pivô-PT (PT nativo vs EN traduzido):\n",
      "  Força (nativo): 0.540\n",
      "  Força (traduzido): 0.460\n",
      "  Log-odds ratio: +0.160\n",
      "  → A resposta nativa é 1.17× mais forte\n",
      "\n"
     ]
    }
   ],
   "source": [
    "bt_results = []\n",
    "\n",
    "for pivot_df, pivot_name, pivot_code in [\n",
    "    (df_pivot_en, 'Pivô-EN (EN nativo vs PT traduzido)', 'EN'),\n",
    "    (df_pivot_pt, 'Pivô-PT (PT nativo vs EN traduzido)', 'PT')\n",
    "]:\n",
    "    wins_native = (pivot_df['winner_type'] == 'Native').sum()\n",
    "    wins_translated = (pivot_df['winner_type'] == 'Translated').sum()\n",
    "    ties = (pivot_df['winner_type'] == 'Tie').sum()\n",
    "    \n",
    "    strength_native, strength_trans, log_odds = estimate_bt_strength_with_ties(\n",
    "        wins_native, wins_translated, ties\n",
    "    )\n",
    "    \n",
    "    print(f\"{pivot_name}:\")\n",
    "    print(f\"  Força (nativo): {strength_native:.3f}\")\n",
    "    print(f\"  Força (traduzido): {strength_trans:.3f}\")\n",
    "    print(f\"  Log-odds ratio: {log_odds:+.3f}\")\n",
    "    print(f\"  → A resposta nativa é {np.exp(log_odds):.2f}× mais forte\")\n",
    "    print()\n",
    "    \n",
    "    bt_results.append({\n",
    "        'Pivot': pivot_code,\n",
    "        'Pivot_Name': pivot_name,\n",
    "        'Native_Strength': strength_native,\n",
    "        'Translated_Strength': strength_trans,\n",
    "        'Log_Odds': log_odds,\n",
    "        'Odds_Ratio': np.exp(log_odds)\n",
    "    })\n",
    "\n",
    "df_bt = pd.DataFrame(bt_results)"
   ]
  },
  {
   "cell_type": "markdown",
   "id": "3596fdb3",
   "metadata": {},
   "source": [
    "Este modelo confirma matematicamente tudo o que vimos antes. A vantagem do Inglês Nativo é enorme, enquanto a vantagem do Português Nativo é muito pequena (quase nula)."
   ]
  },
  {
   "cell_type": "code",
   "execution_count": 18,
   "id": "c8eb92ef",
   "metadata": {},
   "outputs": [
    {
     "name": "stdout",
     "output_type": "stream",
     "text": [
      "--- Comparação entre Pivôs ---\n",
      "Log-odds no Pivô-EN: +1.067\n",
      "Log-odds no Pivô-PT: +0.160\n",
      "Diferença: 0.907\n"
     ]
    }
   ],
   "source": [
    "log_odds_en = df_bt[df_bt['Pivot'] == 'EN']['Log_Odds'].values[0]\n",
    "log_odds_pt = df_bt[df_bt['Pivot'] == 'PT']['Log_Odds'].values[0]\n",
    "\n",
    "print(\"--- Comparação entre Pivôs ---\")\n",
    "print(f\"Log-odds no Pivô-EN: {log_odds_en:+.3f}\")\n",
    "print(f\"Log-odds no Pivô-PT: {log_odds_pt:+.3f}\")\n",
    "print(f\"Diferença: {abs(log_odds_en - log_odds_pt):.3f}\")"
   ]
  },
  {
   "cell_type": "code",
   "execution_count": 19,
   "id": "ea5ea6ee",
   "metadata": {},
   "outputs": [
    {
     "data": {
      "image/png": "[encoded data removed]",
      "text/plain": [
       "<Figure size 1000x600 with 1 Axes>"
      ]
     },
     "metadata": {},
     "output_type": "display_data"
    }
   ],
   "source": [
    "fig, ax = plt.subplots(figsize=(10, 6))\n",
    "\n",
    "pivots = ['Pivot-EN', 'Pivot-PT']\n",
    "native_strengths = df_bt['Native_Strength'].values\n",
    "translated_strengths = df_bt['Translated_Strength'].values\n",
    "\n",
    "x = np.arange(len(pivots))\n",
    "width = 0.35\n",
    "\n",
    "bars1 = ax.bar(x - width/2, native_strengths, width, \n",
    "               label='Native', color='#2ecc71', alpha=0.8, edgecolor='black')\n",
    "bars2 = ax.bar(x + width/2, translated_strengths, width, \n",
    "               label='Translated', color='#e74c3c', alpha=0.8, edgecolor='black')\n",
    "\n",
    "ax.set_ylabel('Bradley-Terry Strength', fontsize=12, weight='bold')\n",
    "ax.set_title('Bradley-Terry Strength Estimates by Pivot', fontsize=14, weight='bold')\n",
    "ax.set_xticks(x)\n",
    "ax.set_xticklabels(pivots)\n",
    "ax.legend(fontsize=11)\n",
    "ax.axhline(0.5, color='gray', linestyle='--', alpha=0.5)\n",
    "ax.set_ylim(0, 1)\n",
    "ax.grid(axis='y', alpha=0.3)\n",
    "\n",
    "# Adicionar valores e odds ratios\n",
    "for i, (bars_native, bars_trans, row) in enumerate(zip(bars1, bars2, df_bt.itertuples())):\n",
    "    # Valores das barras\n",
    "    ax.text(bars_native.get_x() + bars_native.get_width()/2, \n",
    "            bars_native.get_height() + 0.02,\n",
    "            f'{row.Native_Strength:.2f}', \n",
    "            ha='center', fontsize=10, weight='bold')\n",
    "    \n",
    "    ax.text(bars_trans.get_x() + bars_trans.get_width()/2, \n",
    "            bars_trans.get_height() + 0.02,\n",
    "            f'{row.Translated_Strength:.2f}', \n",
    "            ha='center', fontsize=10, weight='bold')\n",
    "    \n",
    "    # Odds ratio\n",
    "    ax.text(i, 0.95, f'OR = {row.Odds_Ratio:.2f}×', \n",
    "            ha='center', fontsize=11, weight='bold',\n",
    "            bbox=dict(boxstyle='round', facecolor='wheat', alpha=0.7))\n",
    "\n",
    "plt.tight_layout()\n",
    "plt.show()"
   ]
  },
  {
   "cell_type": "markdown",
   "id": "fbbe1ee9",
   "metadata": {},
   "source": [
    "## ANÁLISE DE SENSIBILIDADE (TRATAMENTO DE EMPATES)"
   ]
  },
  {
   "cell_type": "code",
   "execution_count": 20,
   "id": "ced22c75",
   "metadata": {},
   "outputs": [
    {
     "data": {
      "image/png": "[encoded data removed]",
      "text/plain": [
       "<Figure size 1400x600 with 2 Axes>"
      ]
     },
     "metadata": {},
     "output_type": "display_data"
    }
   ],
   "source": [
    "# Visualização: Sensibilidade\n",
    "fig, axes = plt.subplots(1, 2, figsize=(14, 6), sharey=True)\n",
    "\n",
    "for ax, pivot in zip(axes, ['EN', 'PT']):\n",
    "    subset = df_results[df_results['Pivot'] == pivot].copy()\n",
    "    subset = subset.sort_values('Win_Rate', ascending=True)\n",
    "    \n",
    "    colors_map = {\n",
    "        'conservative': '#e74c3c',\n",
    "        'half_point': '#2ecc71',\n",
    "        'decided_only': '#3498db'\n",
    "    }\n",
    "    \n",
    "    colors = [colors_map[t] for t in subset['Treatment']]\n",
    "    \n",
    "    y_pos = np.arange(len(subset))\n",
    "    \n",
    "    bars = ax.barh(\n",
    "        y_pos,\n",
    "        subset['Win_Rate'],\n",
    "        xerr=[\n",
    "            subset['Win_Rate'] - subset['IC_Inf'],\n",
    "            subset['IC_Sup'] - subset['Win_Rate']\n",
    "        ],\n",
    "        capsize=5,\n",
    "        color=colors,\n",
    "        alpha=0.8,\n",
    "        edgecolor='black'\n",
    "    )\n",
    "    \n",
    "    ax.set_yticks(y_pos)\n",
    "    ax.set_yticklabels([t.split('(')[0].strip() for t in subset['Treatment_Label']])\n",
    "    ax.set_xlabel('Native Win Rate', fontsize=11)\n",
    "    ax.set_title(f'Pivô-{pivot}', fontsize=13, weight='bold')\n",
    "    ax.axvline(0.5, color='red', linestyle='--', alpha=0.7, linewidth=2)\n",
    "    ax.set_xlim(0, 1)\n",
    "    ax.xaxis.set_major_formatter(plt.FuncFormatter(lambda x, _: f'{x:.0%}'))\n",
    "    ax.grid(axis='x', alpha=0.3)\n",
    "    \n",
    "    # Adicionar valores\n",
    "    for bar, row in zip(bars, subset.itertuples()):\n",
    "        width = bar.get_width()\n",
    "        ax.text(width + 0.05, bar.get_y() + bar.get_height()/2,\n",
    "                f'{row.Win_Rate:.1%}',\n",
    "                va='center', fontsize=10, weight='bold')\n",
    "\n",
    "plt.tight_layout()\n",
    "plt.show()"
   ]
  },
  {
   "cell_type": "code",
   "execution_count": 21,
   "id": "bd0819a5",
   "metadata": {},
   "outputs": [
    {
     "name": "stdout",
     "output_type": "stream",
     "text": [
      "--- Summary Table ---\n",
      "\n",
      "Pivot                          EN     PT\n",
      "Treatment_Label                         \n",
      "Conservative (Tie=0)        57.4%  34.2%\n",
      "Decided only (remove Ties)  87.0%  56.6%\n",
      "Half-point (Tie=0.5)        74.4%  54.0%\n"
     ]
    },
    {
     "name": "stderr",
     "output_type": "stream",
     "text": [
      "/var/folders/lr/rv52d6g56jbdxpkrbhsvqjzr0000gn/T/ipykernel_23716/4206473684.py:8: FutureWarning: DataFrame.applymap has been deprecated. Use DataFrame.map instead.\n",
      "  print(pivot_table.applymap(lambda x: f'{x:.1%}'))\n"
     ]
    }
   ],
   "source": [
    "# Tabela resumo\n",
    "print(\"--- Summary Table ---\\n\")\n",
    "pivot_table = df_results.pivot(\n",
    "    index='Treatment_Label', \n",
    "    columns='Pivot', \n",
    "    values='Win_Rate'\n",
    ")\n",
    "print(pivot_table.applymap(lambda x: f'{x:.1%}'))"
   ]
  },
  {
   "cell_type": "code",
   "execution_count": 22,
   "id": "c2c7c21f",
   "metadata": {},
   "outputs": [
    {
     "name": "stdout",
     "output_type": "stream",
     "text": [
      "--- Robustness Check ---\n",
      "\n",
      "Pivô-EN:\n",
      "    Range: 29.6% (from 57.4% to 87.0%)\n",
      " ROBUSTO: Vantagem nativa em TODOS os tratamentos\n",
      "\n",
      "Pivô-PT:\n",
      "    Range: 22.4% (from 34.2% to 56.6%)\n",
      " NÃO ROBUSTO: A conclusão depende do tratamento do empate\n",
      "\n"
     ]
    }
   ],
   "source": [
    "# Robustez\n",
    "print(\"--- Robustness Check ---\\n\")\n",
    "\n",
    "for pivot in ['EN', 'PT']:\n",
    "    subset = df_results[df_results['Pivot'] == pivot]\n",
    "    min_wr = subset['Win_Rate'].min()\n",
    "    max_wr = subset['Win_Rate'].max()\n",
    "    range_wr = max_wr - min_wr\n",
    "    \n",
    "    print(f\"Pivô-{pivot}:\")\n",
    "    print(f\"    Range: {range_wr:.1%} (from {min_wr:.1%} to {max_wr:.1%})\")\n",
    "    \n",
    "    # Verificar se todos os ICs excluem ou incluem 0.5\n",
    "    all_above = all(subset['IC_Inf'] > 0.5)\n",
    "    all_below = all(subset['IC_Sup'] < 0.5)\n",
    "    \n",
    "    if all_above:\n",
    "        print(\" ROBUSTO: Vantagem nativa em TODOS os tratamentos\")\n",
    "    elif all_below:\n",
    "        print(\" ROBUSTO: Desvantagem nativa em TODOS os tratamentos\")\n",
    "    else:\n",
    "        print(\" NÃO ROBUSTO: A conclusão depende do tratamento do empate\")\n",
    "    print()"
   ]
  },
  {
   "cell_type": "markdown",
   "id": "c676ccda",
   "metadata": {},
   "source": [
    "## ANÁLISE POR SUBGRUPOS"
   ]
  },
  {
   "cell_type": "code",
   "execution_count": 23,
   "id": "d192d095",
   "metadata": {},
   "outputs": [
    {
     "name": "stdout",
     "output_type": "stream",
     "text": [
      "Pivô-EN:\n",
      "  Creative            : 72.0% (95% CI: [63.6%, 79.1%]) (N=125)\n",
      "  General Knowledge   : 77.8% (95% CI: [71.5%, 83.0%]) (N=198)\n",
      "  Technical           : 72.3% (95% CI: [65.3%, 78.4%]) (N=177)\n",
      "\n",
      "Pivô-PT:\n",
      "  Creative            : 46.4% (95% CI: [37.9%, 55.1%]) (N=125)\n",
      "  General Knowledge   : 50.8% (95% CI: [43.6%, 57.4%]) (N=198)\n",
      "  Technical           : 63.0% (95% CI: [55.4%, 69.5%]) (N=177)\n",
      "\n"
     ]
    }
   ],
   "source": [
    "# Por domínio\n",
    "domain_data = []\n",
    "\n",
    "for pivot_df, pivot_name, pivot_code in [\n",
    "    (df_pivot_en, 'Pivô-EN', 'EN'),\n",
    "    (df_pivot_pt, 'Pivô-PT', 'PT')\n",
    "]:\n",
    "    print(f\"{pivot_name}:\")\n",
    "    \n",
    "    for domain in sorted(pivot_df['domain'].unique()):\n",
    "        subset = pivot_df[pivot_df['domain'] == domain]\n",
    "        wr, ic_inf, ic_sup, n = calcular_win_rate_com_empates(subset, 'half_point')\n",
    "        \n",
    "        print(f\"  {domain:20s}: {formatar_ic(wr, ic_inf, ic_sup)} (N={n})\")\n",
    "        \n",
    "        domain_data.append({\n",
    "            'Pivot': pivot_code,\n",
    "            'Domain': domain,\n",
    "            'Win_Rate': wr,\n",
    "            'IC_Inf': ic_inf,\n",
    "            'IC_Sup': ic_sup,\n",
    "            'N': n\n",
    "        })\n",
    "    print()\n",
    "\n",
    "df_domain = pd.DataFrame(domain_data)"
   ]
  },
  {
   "cell_type": "code",
   "execution_count": 24,
   "id": "c60d2ca9",
   "metadata": {},
   "outputs": [
    {
     "data": {
      "image/png": "[encoded data removed]",
      "text/plain": [
       "<Figure size 1400x600 with 2 Axes>"
      ]
     },
     "metadata": {},
     "output_type": "display_data"
    }
   ],
   "source": [
    "# Visualização: Por domínio\n",
    "fig, axes = plt.subplots(1, 2, figsize=(14, 6), sharey=True)\n",
    "\n",
    "for ax, pivot in zip(axes, ['EN', 'PT']):\n",
    "    subset = df_domain[df_domain['Pivot'] == pivot].sort_values('Win_Rate', ascending=True)\n",
    "    \n",
    "    y_pos = np.arange(len(subset))\n",
    "    colors = ['#3498db' if pivot == 'EN' else '#e67e22'] * len(subset)\n",
    "    \n",
    "    bars = ax.barh(\n",
    "        y_pos,\n",
    "        subset['Win_Rate'],\n",
    "        xerr=[\n",
    "            subset['Win_Rate'] - subset['IC_Inf'],\n",
    "            subset['IC_Sup'] - subset['Win_Rate']\n",
    "        ],\n",
    "        capsize=5,\n",
    "        color=colors,\n",
    "        alpha=0.8,\n",
    "        edgecolor='black'\n",
    "    )\n",
    "    \n",
    "    ax.set_yticks(y_pos)\n",
    "    ax.set_yticklabels(subset['Domain'])\n",
    "    ax.set_xlabel('Native Win Rate', fontsize=11)\n",
    "    ax.set_title(f'Pivô-{pivot}', fontsize=13, weight='bold')\n",
    "    ax.axvline(0.5, color='red', linestyle='--', alpha=0.7, linewidth=2)\n",
    "    ax.set_xlim(0, 1)\n",
    "    ax.xaxis.set_major_formatter(plt.FuncFormatter(lambda x, _: f'{x:.0%}'))\n",
    "    ax.grid(axis='x', alpha=0.3)\n",
    "    \n",
    "    # Adicionar valores\n",
    "    for bar, row in zip(bars, subset.itertuples()):\n",
    "        width = bar.get_width()\n",
    "        ax.text(width + 0.03, bar.get_y() + bar.get_height()/2,\n",
    "                f'{row.Win_Rate:.1%}',\n",
    "                va='center', fontsize=10, weight='bold')\n",
    "\n",
    "plt.tight_layout()\n",
    "plt.show()"
   ]
  }
 ],
 "metadata": {
  "kernelspec": {
   "display_name": "ia-py10",
   "language": "python",
   "name": "python3"
  },
  "language_info": {
   "codemirror_mode": {
    "name": "ipython",
    "version": 3
   },
   "file_extension": ".py",
   "mimetype": "text/x-python",
   "name": "python",
   "nbconvert_exporter": "python",
   "pygments_lexer": "ipython3",
   "version": "3.10.18"
  }
 },
 "nbformat": 4,
 "nbformat_minor": 5
}
